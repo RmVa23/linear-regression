{
 "cells": [
  {
   "cell_type": "code",
   "execution_count": 5,
   "metadata": {},
   "outputs": [],
   "source": [
    "import pandas as pd\n",
    "from sklearn.model_selection import train_test_split\n",
    "import statsmodels.api as sm\n",
    "from sklearn.metrics import mean_squared_error, r2_score"
   ]
  },
  {
   "cell_type": "code",
   "execution_count": 6,
   "metadata": {},
   "outputs": [
    {
     "data": {
      "text/html": [
       "<div>\n",
       "<style scoped>\n",
       "    .dataframe tbody tr th:only-of-type {\n",
       "        vertical-align: middle;\n",
       "    }\n",
       "\n",
       "    .dataframe tbody tr th {\n",
       "        vertical-align: top;\n",
       "    }\n",
       "\n",
       "    .dataframe thead th {\n",
       "        text-align: right;\n",
       "    }\n",
       "</style>\n",
       "<table border=\"1\" class=\"dataframe\">\n",
       "  <thead>\n",
       "    <tr style=\"text-align: right;\">\n",
       "      <th></th>\n",
       "      <th>age</th>\n",
       "      <th>bmi</th>\n",
       "      <th>children</th>\n",
       "      <th>charges_log</th>\n",
       "      <th>smoker_num</th>\n",
       "    </tr>\n",
       "  </thead>\n",
       "  <tbody>\n",
       "    <tr>\n",
       "      <th>0</th>\n",
       "      <td>0.021739</td>\n",
       "      <td>0.381409</td>\n",
       "      <td>0.0</td>\n",
       "      <td>9.734176</td>\n",
       "      <td>0</td>\n",
       "    </tr>\n",
       "    <tr>\n",
       "      <th>1</th>\n",
       "      <td>0.000000</td>\n",
       "      <td>0.568919</td>\n",
       "      <td>0.2</td>\n",
       "      <td>7.453302</td>\n",
       "      <td>1</td>\n",
       "    </tr>\n",
       "    <tr>\n",
       "      <th>2</th>\n",
       "      <td>0.217391</td>\n",
       "      <td>0.544322</td>\n",
       "      <td>0.6</td>\n",
       "      <td>8.400538</td>\n",
       "      <td>1</td>\n",
       "    </tr>\n",
       "    <tr>\n",
       "      <th>3</th>\n",
       "      <td>0.326087</td>\n",
       "      <td>0.215461</td>\n",
       "      <td>0.0</td>\n",
       "      <td>9.998092</td>\n",
       "      <td>1</td>\n",
       "    </tr>\n",
       "    <tr>\n",
       "      <th>4</th>\n",
       "      <td>0.304348</td>\n",
       "      <td>0.412714</td>\n",
       "      <td>0.0</td>\n",
       "      <td>8.260197</td>\n",
       "      <td>1</td>\n",
       "    </tr>\n",
       "  </tbody>\n",
       "</table>\n",
       "</div>"
      ],
      "text/plain": [
       "        age       bmi  children  charges_log  smoker_num\n",
       "0  0.021739  0.381409       0.0     9.734176           0\n",
       "1  0.000000  0.568919       0.2     7.453302           1\n",
       "2  0.217391  0.544322       0.6     8.400538           1\n",
       "3  0.326087  0.215461       0.0     9.998092           1\n",
       "4  0.304348  0.412714       0.0     8.260197           1"
      ]
     },
     "execution_count": 6,
     "metadata": {},
     "output_type": "execute_result"
    }
   ],
   "source": [
    "data = pd.read_csv(\"/workspaces/linear-regression/data/processed/datos-procesados.csv\")\n",
    "data.head()"
   ]
  },
  {
   "cell_type": "code",
   "execution_count": 7,
   "metadata": {},
   "outputs": [],
   "source": [
    "X = data.drop(['charges_log'], axis=1)\n",
    "y = data['charges_log']\n",
    "\n",
    "X_train, X_test, y_train, y_test = train_test_split(X, y, test_size=0.2, random_state=42)"
   ]
  },
  {
   "cell_type": "markdown",
   "metadata": {},
   "source": [
    "La función sm.add_constant(X_train) agrega una columna de unos (constantes) al conjunto de características X_train. Esto se hace para permitir que el modelo de regresión lineal tenga un término de intercepción (también conocido como sesgo o bias) en su ecuación.\n",
    "\n",
    "El término de intercepción es el valor de la variable dependiente (en este caso, la etiqueta que estamos tratando de predecir) cuando todas las variables independientes (características) son iguales a cero. Incluir esta constante en el modelo permite que la línea de regresión tenga la flexibilidad de desplazarse verticalmente y no necesariamente pasar por el origen (0,0) en el espacio de características.\n",
    "\n",
    "Agregar una columna de unos a X_train es necesario cuando se utiliza la biblioteca statsmodels para ajustar un modelo de regresión lineal porque esta biblioteca no agrega automáticamente la constante al modelo como lo hace la biblioteca scikit-learn. Por lo tanto, es necesario agregar manualmente la constante para asegurarse de que el modelo incluya un término de intercepción.\n",
    "\n",
    "En resumen, la función sm.add_constant(X_train) garantiza que el modelo de regresión lineal tenga un término de intercepción, lo que permite que la línea de regresión se desplace verticalmente y no necesariamente pase por el origen."
   ]
  },
  {
   "cell_type": "code",
   "execution_count": 8,
   "metadata": {},
   "outputs": [
    {
     "name": "stdout",
     "output_type": "stream",
     "text": [
      "                            OLS Regression Results                            \n",
      "==============================================================================\n",
      "Dep. Variable:            charges_log   R-squared:                       0.756\n",
      "Model:                            OLS   Adj. R-squared:                  0.755\n",
      "Method:                 Least Squares   F-statistic:                     821.7\n",
      "Date:                Fri, 15 Mar 2024   Prob (F-statistic):          2.47e-323\n",
      "Time:                        10:58:04   Log-Likelihood:                -666.14\n",
      "No. Observations:                1068   AIC:                             1342.\n",
      "Df Residuals:                    1063   BIC:                             1367.\n",
      "Df Model:                           4                                         \n",
      "Covariance Type:            nonrobust                                         \n",
      "==============================================================================\n",
      "                 coef    std err          t      P>|t|      [0.025      0.975]\n",
      "------------------------------------------------------------------------------\n",
      "const          9.2954      0.050    184.990      0.000       9.197       9.394\n",
      "age            1.6137      0.046     35.248      0.000       1.524       1.704\n",
      "bmi            0.3145      0.072      4.352      0.000       0.173       0.456\n",
      "children       0.5353      0.058      9.190      0.000       0.421       0.650\n",
      "smoker_num    -1.5238      0.035    -43.725      0.000      -1.592      -1.455\n",
      "==============================================================================\n",
      "Omnibus:                      373.100   Durbin-Watson:                   1.990\n",
      "Prob(Omnibus):                  0.000   Jarque-Bera (JB):             1345.191\n",
      "Skew:                           1.677   Prob(JB):                    7.86e-293\n",
      "Kurtosis:                       7.357   Cond. No.                         8.69\n",
      "==============================================================================\n",
      "\n",
      "Notes:\n",
      "[1] Standard Errors assume that the covariance matrix of the errors is correctly specified.\n"
     ]
    }
   ],
   "source": [
    "X_train = sm.add_constant(X_train)   # Agrega la columna de intercepto a X_train\n",
    "\n",
    "model = sm.OLS(y_train, X_train)   # Crea el modelo de regresión lineal\n",
    "\n",
    "results = model.fit() # Ajusta el modelo a los datos de entrenamiento\n",
    "\n",
    "print(results.summary())   # Muestra un resumen del modelo"
   ]
  },
  {
   "cell_type": "code",
   "execution_count": 9,
   "metadata": {},
   "outputs": [
    {
     "data": {
      "text/plain": [
       "898      7.872529\n",
       "1062     8.682562\n",
       "1253     8.833953\n",
       "298     10.257775\n",
       "237      8.667102\n",
       "          ...    \n",
       "638      9.710721\n",
       "534      9.631653\n",
       "542      9.554579\n",
       "895     10.427574\n",
       "1091     9.580789\n",
       "Length: 267, dtype: float64"
      ]
     },
     "execution_count": 9,
     "metadata": {},
     "output_type": "execute_result"
    }
   ],
   "source": [
    "# Realiza predicciones en el conjunto de prueba\n",
    "X_test = sm.add_constant(X_test)\n",
    "y_pred = results.predict(X_test)\n",
    "y_pred"
   ]
  },
  {
   "cell_type": "code",
   "execution_count": 10,
   "metadata": {},
   "outputs": [
    {
     "name": "stdout",
     "output_type": "stream",
     "text": [
      "Mean Squared Error: 0.1720918628600878\n",
      "R^2 Score: 0.8006159742126163\n"
     ]
    }
   ],
   "source": [
    "# Calcular el Error Cuadrático Medio (MSE)\n",
    "mse = mean_squared_error(y_test, y_pred)\n",
    "print(\"Mean Squared Error:\", mse)\n",
    "\n",
    "# Calcular el coeficiente de determinación (R^2 score)\n",
    "r2 = r2_score(y_test, y_pred)\n",
    "print(\"R^2 Score:\", r2)"
   ]
  }
 ],
 "metadata": {
  "kernelspec": {
   "display_name": "Python 3",
   "language": "python",
   "name": "python3"
  },
  "language_info": {
   "codemirror_mode": {
    "name": "ipython",
    "version": 3
   },
   "file_extension": ".py",
   "mimetype": "text/x-python",
   "name": "python",
   "nbconvert_exporter": "python",
   "pygments_lexer": "ipython3",
   "version": "3.10.12"
  }
 },
 "nbformat": 4,
 "nbformat_minor": 2
}
