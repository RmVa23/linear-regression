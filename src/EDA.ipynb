{
 "cells": [
  {
   "cell_type": "code",
   "execution_count": 2,
   "metadata": {},
   "outputs": [],
   "source": [
    "import pandas as pd\n",
    "from utils import db_connect\n",
    "import matplotlib.pyplot as plt \n",
    "import seaborn as sns\n",
    "import numpy as np\n",
    "import statsmodels.api as sm\n",
    "from sklearn.preprocessing import MinMaxScaler"
   ]
  },
  {
   "cell_type": "code",
   "execution_count": 3,
   "metadata": {},
   "outputs": [
    {
     "name": "stdout",
     "output_type": "stream",
     "text": [
      "Conexión exitosa\n"
     ]
    },
    {
     "data": {
      "text/html": [
       "<div>\n",
       "<style scoped>\n",
       "    .dataframe tbody tr th:only-of-type {\n",
       "        vertical-align: middle;\n",
       "    }\n",
       "\n",
       "    .dataframe tbody tr th {\n",
       "        vertical-align: top;\n",
       "    }\n",
       "\n",
       "    .dataframe thead th {\n",
       "        text-align: right;\n",
       "    }\n",
       "</style>\n",
       "<table border=\"1\" class=\"dataframe\">\n",
       "  <thead>\n",
       "    <tr style=\"text-align: right;\">\n",
       "      <th></th>\n",
       "      <th>age</th>\n",
       "      <th>sex</th>\n",
       "      <th>bmi</th>\n",
       "      <th>children</th>\n",
       "      <th>smoker</th>\n",
       "      <th>region</th>\n",
       "      <th>charges</th>\n",
       "    </tr>\n",
       "  </thead>\n",
       "  <tbody>\n",
       "    <tr>\n",
       "      <th>0</th>\n",
       "      <td>19</td>\n",
       "      <td>female</td>\n",
       "      <td>27.900</td>\n",
       "      <td>0</td>\n",
       "      <td>yes</td>\n",
       "      <td>southwest</td>\n",
       "      <td>16884.92400</td>\n",
       "    </tr>\n",
       "    <tr>\n",
       "      <th>1</th>\n",
       "      <td>18</td>\n",
       "      <td>male</td>\n",
       "      <td>33.770</td>\n",
       "      <td>1</td>\n",
       "      <td>no</td>\n",
       "      <td>southeast</td>\n",
       "      <td>1725.55230</td>\n",
       "    </tr>\n",
       "    <tr>\n",
       "      <th>2</th>\n",
       "      <td>28</td>\n",
       "      <td>male</td>\n",
       "      <td>33.000</td>\n",
       "      <td>3</td>\n",
       "      <td>no</td>\n",
       "      <td>southeast</td>\n",
       "      <td>4449.46200</td>\n",
       "    </tr>\n",
       "    <tr>\n",
       "      <th>3</th>\n",
       "      <td>33</td>\n",
       "      <td>male</td>\n",
       "      <td>22.705</td>\n",
       "      <td>0</td>\n",
       "      <td>no</td>\n",
       "      <td>northwest</td>\n",
       "      <td>21984.47061</td>\n",
       "    </tr>\n",
       "    <tr>\n",
       "      <th>4</th>\n",
       "      <td>32</td>\n",
       "      <td>male</td>\n",
       "      <td>28.880</td>\n",
       "      <td>0</td>\n",
       "      <td>no</td>\n",
       "      <td>northwest</td>\n",
       "      <td>3866.85520</td>\n",
       "    </tr>\n",
       "  </tbody>\n",
       "</table>\n",
       "</div>"
      ],
      "text/plain": [
       "   age     sex     bmi  children smoker     region      charges\n",
       "0   19  female  27.900         0    yes  southwest  16884.92400\n",
       "1   18    male  33.770         1     no  southeast   1725.55230\n",
       "2   28    male  33.000         3     no  southeast   4449.46200\n",
       "3   33    male  22.705         0     no  northwest  21984.47061\n",
       "4   32    male  28.880         0     no  northwest   3866.85520"
      ]
     },
     "execution_count": 3,
     "metadata": {},
     "output_type": "execute_result"
    }
   ],
   "source": [
    "# Establecer la conexión a la base de datos\n",
    "engine = db_connect()\n",
    "\n",
    "if engine:\n",
    "    print(\"Conexión exitosa\")\n",
    "\n",
    "data = pd.read_sql_table('tabla seguro', engine)\n",
    "\n",
    "pd.set_option('display.max_columns', None)  # muestra todas las columnas del dataframe\n",
    "data.head()"
   ]
  },
  {
   "cell_type": "code",
   "execution_count": 4,
   "metadata": {},
   "outputs": [
    {
     "name": "stdout",
     "output_type": "stream",
     "text": [
      "(1338, 7)\n",
      "<class 'pandas.core.frame.DataFrame'>\n",
      "RangeIndex: 1338 entries, 0 to 1337\n",
      "Data columns (total 7 columns):\n",
      " #   Column    Non-Null Count  Dtype  \n",
      "---  ------    --------------  -----  \n",
      " 0   age       1338 non-null   int64  \n",
      " 1   sex       1338 non-null   object \n",
      " 2   bmi       1338 non-null   float64\n",
      " 3   children  1338 non-null   int64  \n",
      " 4   smoker    1338 non-null   object \n",
      " 5   region    1338 non-null   object \n",
      " 6   charges   1338 non-null   float64\n",
      "dtypes: float64(2), int64(2), object(3)\n",
      "memory usage: 73.3+ KB\n"
     ]
    }
   ],
   "source": [
    "print(data.shape)\n",
    "data.info()"
   ]
  },
  {
   "cell_type": "code",
   "execution_count": 5,
   "metadata": {},
   "outputs": [
    {
     "data": {
      "text/plain": [
       "False"
      ]
     },
     "execution_count": 5,
     "metadata": {},
     "output_type": "execute_result"
    }
   ],
   "source": [
    "data.isnull().any().any()"
   ]
  },
  {
   "cell_type": "code",
   "execution_count": 6,
   "metadata": {},
   "outputs": [
    {
     "data": {
      "text/plain": [
       "1"
      ]
     },
     "execution_count": 6,
     "metadata": {},
     "output_type": "execute_result"
    }
   ],
   "source": [
    "data.duplicated().sum()"
   ]
  },
  {
   "cell_type": "code",
   "execution_count": 7,
   "metadata": {},
   "outputs": [
    {
     "data": {
      "text/plain": [
       "0"
      ]
     },
     "execution_count": 7,
     "metadata": {},
     "output_type": "execute_result"
    }
   ],
   "source": [
    "data = data.drop_duplicates().reset_index(drop = True)\n",
    "data.duplicated().sum()"
   ]
  },
  {
   "cell_type": "markdown",
   "metadata": {},
   "source": [
    "Usamos pd.factorize para codificar las columnas para preservar el orden de las categorias, a diferencia de LabelEncoder, que usa menos memoria pero no mantiene el orden de las categorias.\n",
    "\n",
    "Nos decidimos por esta forma ya que tenemos pocas categorías distintas, y pd.factorize devuelve tanto los códigos numéricos como las categorías originales, lo que es útil para el análisis.\n"
   ]
  },
  {
   "cell_type": "code",
   "execution_count": 8,
   "metadata": {},
   "outputs": [
    {
     "data": {
      "text/html": [
       "<div>\n",
       "<style scoped>\n",
       "    .dataframe tbody tr th:only-of-type {\n",
       "        vertical-align: middle;\n",
       "    }\n",
       "\n",
       "    .dataframe tbody tr th {\n",
       "        vertical-align: top;\n",
       "    }\n",
       "\n",
       "    .dataframe thead th {\n",
       "        text-align: right;\n",
       "    }\n",
       "</style>\n",
       "<table border=\"1\" class=\"dataframe\">\n",
       "  <thead>\n",
       "    <tr style=\"text-align: right;\">\n",
       "      <th></th>\n",
       "      <th>age</th>\n",
       "      <th>sex</th>\n",
       "      <th>bmi</th>\n",
       "      <th>children</th>\n",
       "      <th>smoker</th>\n",
       "      <th>region</th>\n",
       "      <th>charges</th>\n",
       "      <th>sex_num</th>\n",
       "      <th>smoker_num</th>\n",
       "      <th>region_num</th>\n",
       "    </tr>\n",
       "  </thead>\n",
       "  <tbody>\n",
       "    <tr>\n",
       "      <th>0</th>\n",
       "      <td>19</td>\n",
       "      <td>female</td>\n",
       "      <td>27.900</td>\n",
       "      <td>0</td>\n",
       "      <td>yes</td>\n",
       "      <td>southwest</td>\n",
       "      <td>16884.92400</td>\n",
       "      <td>0</td>\n",
       "      <td>0</td>\n",
       "      <td>0</td>\n",
       "    </tr>\n",
       "    <tr>\n",
       "      <th>1</th>\n",
       "      <td>18</td>\n",
       "      <td>male</td>\n",
       "      <td>33.770</td>\n",
       "      <td>1</td>\n",
       "      <td>no</td>\n",
       "      <td>southeast</td>\n",
       "      <td>1725.55230</td>\n",
       "      <td>1</td>\n",
       "      <td>1</td>\n",
       "      <td>1</td>\n",
       "    </tr>\n",
       "    <tr>\n",
       "      <th>2</th>\n",
       "      <td>28</td>\n",
       "      <td>male</td>\n",
       "      <td>33.000</td>\n",
       "      <td>3</td>\n",
       "      <td>no</td>\n",
       "      <td>southeast</td>\n",
       "      <td>4449.46200</td>\n",
       "      <td>1</td>\n",
       "      <td>1</td>\n",
       "      <td>1</td>\n",
       "    </tr>\n",
       "    <tr>\n",
       "      <th>3</th>\n",
       "      <td>33</td>\n",
       "      <td>male</td>\n",
       "      <td>22.705</td>\n",
       "      <td>0</td>\n",
       "      <td>no</td>\n",
       "      <td>northwest</td>\n",
       "      <td>21984.47061</td>\n",
       "      <td>1</td>\n",
       "      <td>1</td>\n",
       "      <td>2</td>\n",
       "    </tr>\n",
       "    <tr>\n",
       "      <th>4</th>\n",
       "      <td>32</td>\n",
       "      <td>male</td>\n",
       "      <td>28.880</td>\n",
       "      <td>0</td>\n",
       "      <td>no</td>\n",
       "      <td>northwest</td>\n",
       "      <td>3866.85520</td>\n",
       "      <td>1</td>\n",
       "      <td>1</td>\n",
       "      <td>2</td>\n",
       "    </tr>\n",
       "  </tbody>\n",
       "</table>\n",
       "</div>"
      ],
      "text/plain": [
       "   age     sex     bmi  children smoker     region      charges  sex_num  \\\n",
       "0   19  female  27.900         0    yes  southwest  16884.92400        0   \n",
       "1   18    male  33.770         1     no  southeast   1725.55230        1   \n",
       "2   28    male  33.000         3     no  southeast   4449.46200        1   \n",
       "3   33    male  22.705         0     no  northwest  21984.47061        1   \n",
       "4   32    male  28.880         0     no  northwest   3866.85520        1   \n",
       "\n",
       "   smoker_num  region_num  \n",
       "0           0           0  \n",
       "1           1           1  \n",
       "2           1           1  \n",
       "3           1           2  \n",
       "4           1           2  "
      ]
     },
     "execution_count": 8,
     "metadata": {},
     "output_type": "execute_result"
    }
   ],
   "source": [
    "data[\"sex_num\"] = pd.factorize(data[\"sex\"])[0]\n",
    "data[\"smoker_num\"] = pd.factorize(data[\"smoker\"])[0]\n",
    "data[\"region_num\"] = pd.factorize(data[\"region\"])[0]\n",
    "\n",
    "data.head()\n"
   ]
  },
  {
   "cell_type": "code",
   "execution_count": 9,
   "metadata": {},
   "outputs": [
    {
     "data": {
      "text/html": [
       "<div>\n",
       "<style scoped>\n",
       "    .dataframe tbody tr th:only-of-type {\n",
       "        vertical-align: middle;\n",
       "    }\n",
       "\n",
       "    .dataframe tbody tr th {\n",
       "        vertical-align: top;\n",
       "    }\n",
       "\n",
       "    .dataframe thead th {\n",
       "        text-align: right;\n",
       "    }\n",
       "</style>\n",
       "<table border=\"1\" class=\"dataframe\">\n",
       "  <thead>\n",
       "    <tr style=\"text-align: right;\">\n",
       "      <th></th>\n",
       "      <th>age</th>\n",
       "      <th>bmi</th>\n",
       "      <th>children</th>\n",
       "      <th>sex_num</th>\n",
       "      <th>smoker_num</th>\n",
       "      <th>region_num</th>\n",
       "      <th>charges</th>\n",
       "    </tr>\n",
       "  </thead>\n",
       "  <tbody>\n",
       "    <tr>\n",
       "      <th>age</th>\n",
       "      <td>1.000000</td>\n",
       "      <td>0.109344</td>\n",
       "      <td>0.041536</td>\n",
       "      <td>-0.019814</td>\n",
       "      <td>0.025587</td>\n",
       "      <td>-0.001626</td>\n",
       "      <td>0.298308</td>\n",
       "    </tr>\n",
       "    <tr>\n",
       "      <th>bmi</th>\n",
       "      <td>0.109344</td>\n",
       "      <td>1.000000</td>\n",
       "      <td>0.012755</td>\n",
       "      <td>0.046397</td>\n",
       "      <td>-0.003746</td>\n",
       "      <td>-0.157574</td>\n",
       "      <td>0.198401</td>\n",
       "    </tr>\n",
       "    <tr>\n",
       "      <th>children</th>\n",
       "      <td>0.041536</td>\n",
       "      <td>0.012755</td>\n",
       "      <td>1.000000</td>\n",
       "      <td>0.017848</td>\n",
       "      <td>-0.007331</td>\n",
       "      <td>-0.016258</td>\n",
       "      <td>0.067389</td>\n",
       "    </tr>\n",
       "    <tr>\n",
       "      <th>sex_num</th>\n",
       "      <td>-0.019814</td>\n",
       "      <td>0.046397</td>\n",
       "      <td>0.017848</td>\n",
       "      <td>1.000000</td>\n",
       "      <td>-0.076596</td>\n",
       "      <td>-0.004936</td>\n",
       "      <td>0.058044</td>\n",
       "    </tr>\n",
       "    <tr>\n",
       "      <th>smoker_num</th>\n",
       "      <td>0.025587</td>\n",
       "      <td>-0.003746</td>\n",
       "      <td>-0.007331</td>\n",
       "      <td>-0.076596</td>\n",
       "      <td>1.000000</td>\n",
       "      <td>-0.002358</td>\n",
       "      <td>-0.787234</td>\n",
       "    </tr>\n",
       "    <tr>\n",
       "      <th>region_num</th>\n",
       "      <td>-0.001626</td>\n",
       "      <td>-0.157574</td>\n",
       "      <td>-0.016258</td>\n",
       "      <td>-0.004936</td>\n",
       "      <td>-0.002358</td>\n",
       "      <td>1.000000</td>\n",
       "      <td>0.006547</td>\n",
       "    </tr>\n",
       "    <tr>\n",
       "      <th>charges</th>\n",
       "      <td>0.298308</td>\n",
       "      <td>0.198401</td>\n",
       "      <td>0.067389</td>\n",
       "      <td>0.058044</td>\n",
       "      <td>-0.787234</td>\n",
       "      <td>0.006547</td>\n",
       "      <td>1.000000</td>\n",
       "    </tr>\n",
       "  </tbody>\n",
       "</table>\n",
       "</div>"
      ],
      "text/plain": [
       "                 age       bmi  children   sex_num  smoker_num  region_num  \\\n",
       "age         1.000000  0.109344  0.041536 -0.019814    0.025587   -0.001626   \n",
       "bmi         0.109344  1.000000  0.012755  0.046397   -0.003746   -0.157574   \n",
       "children    0.041536  0.012755  1.000000  0.017848   -0.007331   -0.016258   \n",
       "sex_num    -0.019814  0.046397  0.017848  1.000000   -0.076596   -0.004936   \n",
       "smoker_num  0.025587 -0.003746 -0.007331 -0.076596    1.000000   -0.002358   \n",
       "region_num -0.001626 -0.157574 -0.016258 -0.004936   -0.002358    1.000000   \n",
       "charges     0.298308  0.198401  0.067389  0.058044   -0.787234    0.006547   \n",
       "\n",
       "             charges  \n",
       "age         0.298308  \n",
       "bmi         0.198401  \n",
       "children    0.067389  \n",
       "sex_num     0.058044  \n",
       "smoker_num -0.787234  \n",
       "region_num  0.006547  \n",
       "charges     1.000000  "
      ]
     },
     "execution_count": 9,
     "metadata": {},
     "output_type": "execute_result"
    }
   ],
   "source": [
    "data_num = data[[\"age\", \"bmi\", \"children\", \"sex_num\", \"smoker_num\", \"region_num\", \"charges\"]].copy() # .copy() para crear dataframe independiente al original\n",
    "data_num.corr()"
   ]
  },
  {
   "cell_type": "markdown",
   "metadata": {},
   "source": [
    "Edad y Costos: Hay una correlación positiva moderada entre la edad y los costos médicos. Esto sugiere que a medida que la edad aumenta, es probable que los costos médicos también aumenten, lo cual es razonable ya que las personas mayores tienden a tener más problemas de salud y pueden requerir más atención médica.\n",
    "\n",
    "IMC (BMI) y Costos: Existe una correlación positiva leve entre el índice de masa corporal (IMC) y los costos médicos. Esto indica que las personas con un IMC más alto tienden a tener costos médicos ligeramente más altos. Sin embargo, la correlación no es muy fuerte.\n",
    "\n",
    "Fumadores y Costos: La correlación entre el hecho de ser fumador y los costos médicos es bastante alta y negativa. Esto sugiere que los fumadores tienden a tener costos médicos mucho más altos en comparación con los no fumadores. Esta es una observación significativa y coherente con la literatura médica, ya que el hábito de fumar está asociado con una variedad de problemas de salud.\n",
    "\n",
    "Región y Costos: La correlación entre la región y los costos médicos es muy baja, lo que indica que la región donde reside una persona tiene una influencia mínima en sus costos médicos.\n",
    "\n",
    "Sexo y Costos: La correlación entre el sexo y los costos médicos es muy baja, lo que indica que no hay una relación significativa entre el sexo de una persona y sus costos médicos.\n",
    "\n",
    "En resumen, la edad, el IMC y el hábito de fumar parecen ser los factores más influyentes en los costos médicos, según esta matriz de correlación.\n",
    "\n",
    "\n",
    "Vemos que apenas hay correlacion entre la región y la prima de seguro, algo normal, ya que si bien una region puede tener una tendencia hacia una característica influyente mayor que la otra, no tiene que verse reflejada en todos los sujetos de dicha zona, por lo que sería injusto que, por ejemplo, su prima aumentase por proceder de una zona con mayor índice de fumadores, a pesar de que el sujeto concreto no haya fumado en su vida.\n",
    "Lo mismo ocurre en relación al sexo.\n",
    "\n",
    "Por tanto, eliminaremos las variables."
   ]
  },
  {
   "cell_type": "code",
   "execution_count": 10,
   "metadata": {},
   "outputs": [
    {
     "data": {
      "text/html": [
       "<div>\n",
       "<style scoped>\n",
       "    .dataframe tbody tr th:only-of-type {\n",
       "        vertical-align: middle;\n",
       "    }\n",
       "\n",
       "    .dataframe tbody tr th {\n",
       "        vertical-align: top;\n",
       "    }\n",
       "\n",
       "    .dataframe thead th {\n",
       "        text-align: right;\n",
       "    }\n",
       "</style>\n",
       "<table border=\"1\" class=\"dataframe\">\n",
       "  <thead>\n",
       "    <tr style=\"text-align: right;\">\n",
       "      <th></th>\n",
       "      <th>age</th>\n",
       "      <th>bmi</th>\n",
       "      <th>children</th>\n",
       "      <th>smoker_num</th>\n",
       "      <th>charges</th>\n",
       "    </tr>\n",
       "  </thead>\n",
       "  <tbody>\n",
       "    <tr>\n",
       "      <th>0</th>\n",
       "      <td>19</td>\n",
       "      <td>27.900</td>\n",
       "      <td>0</td>\n",
       "      <td>0</td>\n",
       "      <td>16884.92400</td>\n",
       "    </tr>\n",
       "    <tr>\n",
       "      <th>1</th>\n",
       "      <td>18</td>\n",
       "      <td>33.770</td>\n",
       "      <td>1</td>\n",
       "      <td>1</td>\n",
       "      <td>1725.55230</td>\n",
       "    </tr>\n",
       "    <tr>\n",
       "      <th>2</th>\n",
       "      <td>28</td>\n",
       "      <td>33.000</td>\n",
       "      <td>3</td>\n",
       "      <td>1</td>\n",
       "      <td>4449.46200</td>\n",
       "    </tr>\n",
       "    <tr>\n",
       "      <th>3</th>\n",
       "      <td>33</td>\n",
       "      <td>22.705</td>\n",
       "      <td>0</td>\n",
       "      <td>1</td>\n",
       "      <td>21984.47061</td>\n",
       "    </tr>\n",
       "    <tr>\n",
       "      <th>4</th>\n",
       "      <td>32</td>\n",
       "      <td>28.880</td>\n",
       "      <td>0</td>\n",
       "      <td>1</td>\n",
       "      <td>3866.85520</td>\n",
       "    </tr>\n",
       "  </tbody>\n",
       "</table>\n",
       "</div>"
      ],
      "text/plain": [
       "   age     bmi  children  smoker_num      charges\n",
       "0   19  27.900         0           0  16884.92400\n",
       "1   18  33.770         1           1   1725.55230\n",
       "2   28  33.000         3           1   4449.46200\n",
       "3   33  22.705         0           1  21984.47061\n",
       "4   32  28.880         0           1   3866.85520"
      ]
     },
     "execution_count": 10,
     "metadata": {},
     "output_type": "execute_result"
    }
   ],
   "source": [
    "data.drop(['region', 'region_num', 'sex', 'sex_num'], axis=1, inplace=True)\n",
    "data_num.drop(['region_num', 'sex_num'], axis=1, inplace=True)\n",
    "data_num.head()"
   ]
  },
  {
   "cell_type": "markdown",
   "metadata": {},
   "source": [
    "Análisis de variables univariantes (categóricas)"
   ]
  },
  {
   "cell_type": "code",
   "execution_count": 11,
   "metadata": {},
   "outputs": [
    {
     "data": {
      "image/png": "[encoded data removed]",
      "text/plain": [
       "<Figure size 600x300 with 2 Axes>"
      ]
     },
     "metadata": {},
     "output_type": "display_data"
    }
   ],
   "source": [
    "fig, axis = plt.subplots(1, 2, figsize = (6, 3))\n",
    "\n",
    "sns.histplot(ax = axis[0], data = data, x = \"children\").set(ylabel = None)\n",
    "sns.histplot(ax = axis[1], data = data, x = \"smoker\").set_xlim(-0.1, 1.1)\n",
    "\n",
    "plt.tight_layout()  # Ajustar el layout\n",
    "\n",
    "plt.show()"
   ]
  },
  {
   "cell_type": "markdown",
   "metadata": {},
   "source": [
    "Análisis sobre variables numéricas"
   ]
  },
  {
   "cell_type": "code",
   "execution_count": 12,
   "metadata": {},
   "outputs": [
    {
     "data": {
      "image/png": "[encoded data removed]",
      "text/plain": [
       "<Figure size 800x400 with 6 Axes>"
      ]
     },
     "metadata": {},
     "output_type": "display_data"
    }
   ],
   "source": [
    "fig, axis = plt.subplots(2, 3, figsize = (8, 4), gridspec_kw={'height_ratios': [6, 1]})\n",
    "\n",
    "sns.histplot(ax = axis[0, 0], data = data, x = \"age\").set(xlabel = None)\n",
    "sns.boxplot(ax = axis[1, 0], data = data, x = \"age\")\n",
    "\n",
    "sns.histplot(ax = axis[0, 1], data = data, x = \"bmi\").set(xlabel = None, ylabel = None)\n",
    "sns.boxplot(ax = axis[1, 1], data = data, x = \"bmi\")\n",
    "\n",
    "sns.histplot(ax = axis[0, 2], data = data, x = \"charges\").set(xlabel = None)\n",
    "sns.boxplot(ax = axis[1, 2], data = data, x = \"charges\")\n",
    "\n",
    "plt.tight_layout()\n",
    "\n",
    "plt.show()"
   ]
  },
  {
   "cell_type": "code",
   "execution_count": 13,
   "metadata": {},
   "outputs": [
    {
     "data": {
      "image/png": "[encoded data removed]",
      "text/plain": [
       "<Figure size 1000x300 with 5 Axes>"
      ]
     },
     "metadata": {},
     "output_type": "display_data"
    }
   ],
   "source": [
    "fig, axis = plt.subplots(1, 5, figsize = (10, 3))\n",
    "\n",
    "sns.boxplot(ax = axis[0], data = data, y = \"age\")\n",
    "sns.boxplot(ax = axis[1], data = data, y = \"bmi\")\n",
    "sns.boxplot(ax = axis[2], data = data, y = \"children\")\n",
    "sns.boxplot(ax = axis[3], data = data, y = \"smoker\")\n",
    "sns.boxplot(ax = axis[4], data = data, y = \"charges\")\n",
    "\n",
    "plt.tight_layout()\n",
    "\n",
    "plt.show()"
   ]
  },
  {
   "cell_type": "code",
   "execution_count": 14,
   "metadata": {},
   "outputs": [
    {
     "data": {
      "text/html": [
       "<div>\n",
       "<style scoped>\n",
       "    .dataframe tbody tr th:only-of-type {\n",
       "        vertical-align: middle;\n",
       "    }\n",
       "\n",
       "    .dataframe tbody tr th {\n",
       "        vertical-align: top;\n",
       "    }\n",
       "\n",
       "    .dataframe thead th {\n",
       "        text-align: right;\n",
       "    }\n",
       "</style>\n",
       "<table border=\"1\" class=\"dataframe\">\n",
       "  <thead>\n",
       "    <tr style=\"text-align: right;\">\n",
       "      <th></th>\n",
       "      <th>count</th>\n",
       "      <th>mean</th>\n",
       "      <th>std</th>\n",
       "      <th>min</th>\n",
       "      <th>25%</th>\n",
       "      <th>50%</th>\n",
       "      <th>75%</th>\n",
       "      <th>max</th>\n",
       "    </tr>\n",
       "  </thead>\n",
       "  <tbody>\n",
       "    <tr>\n",
       "      <th>age</th>\n",
       "      <td>1337.0</td>\n",
       "      <td>39.222139</td>\n",
       "      <td>14.044333</td>\n",
       "      <td>18.0000</td>\n",
       "      <td>27.000</td>\n",
       "      <td>39.0000</td>\n",
       "      <td>51.00000</td>\n",
       "      <td>64.00000</td>\n",
       "    </tr>\n",
       "    <tr>\n",
       "      <th>bmi</th>\n",
       "      <td>1337.0</td>\n",
       "      <td>30.663452</td>\n",
       "      <td>6.100468</td>\n",
       "      <td>15.9600</td>\n",
       "      <td>26.290</td>\n",
       "      <td>30.4000</td>\n",
       "      <td>34.70000</td>\n",
       "      <td>53.13000</td>\n",
       "    </tr>\n",
       "    <tr>\n",
       "      <th>children</th>\n",
       "      <td>1337.0</td>\n",
       "      <td>1.095737</td>\n",
       "      <td>1.205571</td>\n",
       "      <td>0.0000</td>\n",
       "      <td>0.000</td>\n",
       "      <td>1.0000</td>\n",
       "      <td>2.00000</td>\n",
       "      <td>5.00000</td>\n",
       "    </tr>\n",
       "    <tr>\n",
       "      <th>smoker_num</th>\n",
       "      <td>1337.0</td>\n",
       "      <td>0.795064</td>\n",
       "      <td>0.403806</td>\n",
       "      <td>0.0000</td>\n",
       "      <td>1.000</td>\n",
       "      <td>1.0000</td>\n",
       "      <td>1.00000</td>\n",
       "      <td>1.00000</td>\n",
       "    </tr>\n",
       "    <tr>\n",
       "      <th>charges</th>\n",
       "      <td>1337.0</td>\n",
       "      <td>13279.121487</td>\n",
       "      <td>12110.359656</td>\n",
       "      <td>1121.8739</td>\n",
       "      <td>4746.344</td>\n",
       "      <td>9386.1613</td>\n",
       "      <td>16657.71745</td>\n",
       "      <td>63770.42801</td>\n",
       "    </tr>\n",
       "  </tbody>\n",
       "</table>\n",
       "</div>"
      ],
      "text/plain": [
       "             count          mean           std        min       25%  \\\n",
       "age         1337.0     39.222139     14.044333    18.0000    27.000   \n",
       "bmi         1337.0     30.663452      6.100468    15.9600    26.290   \n",
       "children    1337.0      1.095737      1.205571     0.0000     0.000   \n",
       "smoker_num  1337.0      0.795064      0.403806     0.0000     1.000   \n",
       "charges     1337.0  13279.121487  12110.359656  1121.8739  4746.344   \n",
       "\n",
       "                  50%          75%          max  \n",
       "age           39.0000     51.00000     64.00000  \n",
       "bmi           30.4000     34.70000     53.13000  \n",
       "children       1.0000      2.00000      5.00000  \n",
       "smoker_num     1.0000      1.00000      1.00000  \n",
       "charges     9386.1613  16657.71745  63770.42801  "
      ]
     },
     "execution_count": 14,
     "metadata": {},
     "output_type": "execute_result"
    }
   ],
   "source": [
    "data_num.describe().T"
   ]
  },
  {
   "cell_type": "markdown",
   "metadata": {},
   "source": [
    " - Valores Atípicos"
   ]
  },
  {
   "cell_type": "markdown",
   "metadata": {},
   "source": [
    "Observamos que tenemos dos columnas con valores atípicos: 'bmi' y 'charges'"
   ]
  },
  {
   "cell_type": "code",
   "execution_count": 15,
   "metadata": {},
   "outputs": [
    {
     "data": {
      "text/plain": [
       "count     1337.000000\n",
       "mean     13279.121487\n",
       "std      12110.359656\n",
       "min       1121.873900\n",
       "25%       4746.344000\n",
       "50%       9386.161300\n",
       "75%      16657.717450\n",
       "max      63770.428010\n",
       "Name: charges, dtype: float64"
      ]
     },
     "execution_count": 15,
     "metadata": {},
     "output_type": "execute_result"
    }
   ],
   "source": [
    "bmi_stats = data['bmi'].describe()\n",
    "charges_stats = data['charges'].describe()\n",
    "charges_stats"
   ]
  },
  {
   "cell_type": "code",
   "execution_count": 16,
   "metadata": {},
   "outputs": [
    {
     "name": "stdout",
     "output_type": "stream",
     "text": [
      "Los límites superior e inferior para la búsqueda de outliers son 47.32 y 13.67, con un rango intercuartílico de 8.41\n",
      "0.67%\n"
     ]
    }
   ],
   "source": [
    "bmi_iqr = bmi_stats[\"75%\"] - bmi_stats[\"25%\"]\n",
    "upper_limit = bmi_stats[\"75%\"] + 1.5 * bmi_iqr\n",
    "lower_limit = bmi_stats[\"25%\"] - 1.5 * bmi_iqr\n",
    "\n",
    "print(f\"Los límites superior e inferior para la búsqueda de outliers son {round(upper_limit, 2)} y {round(lower_limit, 2)}, con un rango intercuartílico de {round(bmi_iqr, 2)}\")\n",
    "\n",
    "total = ((data['bmi'] > 47) | (data['bmi'] < 13)).sum() \n",
    "print(f\"{np.round(((total / len(data['bmi'])) * 100), 2)}%\")\n"
   ]
  },
  {
   "cell_type": "code",
   "execution_count": 17,
   "metadata": {},
   "outputs": [
    {
     "data": {
      "text/html": [
       "<div>\n",
       "<style scoped>\n",
       "    .dataframe tbody tr th:only-of-type {\n",
       "        vertical-align: middle;\n",
       "    }\n",
       "\n",
       "    .dataframe tbody tr th {\n",
       "        vertical-align: top;\n",
       "    }\n",
       "\n",
       "    .dataframe thead th {\n",
       "        text-align: right;\n",
       "    }\n",
       "</style>\n",
       "<table border=\"1\" class=\"dataframe\">\n",
       "  <thead>\n",
       "    <tr style=\"text-align: right;\">\n",
       "      <th></th>\n",
       "      <th>age</th>\n",
       "      <th>bmi</th>\n",
       "      <th>children</th>\n",
       "      <th>smoker</th>\n",
       "      <th>charges</th>\n",
       "      <th>smoker_num</th>\n",
       "    </tr>\n",
       "  </thead>\n",
       "  <tbody>\n",
       "    <tr>\n",
       "      <th>116</th>\n",
       "      <td>58</td>\n",
       "      <td>49.06</td>\n",
       "      <td>0</td>\n",
       "      <td>no</td>\n",
       "      <td>11381.32540</td>\n",
       "      <td>1</td>\n",
       "    </tr>\n",
       "    <tr>\n",
       "      <th>286</th>\n",
       "      <td>46</td>\n",
       "      <td>48.07</td>\n",
       "      <td>2</td>\n",
       "      <td>no</td>\n",
       "      <td>9432.92530</td>\n",
       "      <td>1</td>\n",
       "    </tr>\n",
       "    <tr>\n",
       "      <th>401</th>\n",
       "      <td>47</td>\n",
       "      <td>47.52</td>\n",
       "      <td>1</td>\n",
       "      <td>no</td>\n",
       "      <td>8083.91980</td>\n",
       "      <td>1</td>\n",
       "    </tr>\n",
       "    <tr>\n",
       "      <th>543</th>\n",
       "      <td>54</td>\n",
       "      <td>47.41</td>\n",
       "      <td>0</td>\n",
       "      <td>yes</td>\n",
       "      <td>63770.42801</td>\n",
       "      <td>0</td>\n",
       "    </tr>\n",
       "    <tr>\n",
       "      <th>846</th>\n",
       "      <td>23</td>\n",
       "      <td>50.38</td>\n",
       "      <td>1</td>\n",
       "      <td>no</td>\n",
       "      <td>2438.05520</td>\n",
       "      <td>1</td>\n",
       "    </tr>\n",
       "    <tr>\n",
       "      <th>859</th>\n",
       "      <td>37</td>\n",
       "      <td>47.60</td>\n",
       "      <td>2</td>\n",
       "      <td>yes</td>\n",
       "      <td>46113.51100</td>\n",
       "      <td>0</td>\n",
       "    </tr>\n",
       "    <tr>\n",
       "      <th>1046</th>\n",
       "      <td>22</td>\n",
       "      <td>52.58</td>\n",
       "      <td>1</td>\n",
       "      <td>yes</td>\n",
       "      <td>44501.39820</td>\n",
       "      <td>0</td>\n",
       "    </tr>\n",
       "    <tr>\n",
       "      <th>1087</th>\n",
       "      <td>52</td>\n",
       "      <td>47.74</td>\n",
       "      <td>1</td>\n",
       "      <td>no</td>\n",
       "      <td>9748.91060</td>\n",
       "      <td>1</td>\n",
       "    </tr>\n",
       "    <tr>\n",
       "      <th>1316</th>\n",
       "      <td>18</td>\n",
       "      <td>53.13</td>\n",
       "      <td>0</td>\n",
       "      <td>no</td>\n",
       "      <td>1163.46270</td>\n",
       "      <td>1</td>\n",
       "    </tr>\n",
       "  </tbody>\n",
       "</table>\n",
       "</div>"
      ],
      "text/plain": [
       "      age    bmi  children smoker      charges  smoker_num\n",
       "116    58  49.06         0     no  11381.32540           1\n",
       "286    46  48.07         2     no   9432.92530           1\n",
       "401    47  47.52         1     no   8083.91980           1\n",
       "543    54  47.41         0    yes  63770.42801           0\n",
       "846    23  50.38         1     no   2438.05520           1\n",
       "859    37  47.60         2    yes  46113.51100           0\n",
       "1046   22  52.58         1    yes  44501.39820           0\n",
       "1087   52  47.74         1     no   9748.91060           1\n",
       "1316   18  53.13         0     no   1163.46270           1"
      ]
     },
     "execution_count": 17,
     "metadata": {},
     "output_type": "execute_result"
    }
   ],
   "source": [
    "atipicos = data[(data['bmi'] > 47) | (data['bmi'] < 13)]\n",
    "atipicos"
   ]
  },
  {
   "cell_type": "markdown",
   "metadata": {},
   "source": [
    "Podríamos eliminar los outlayers de bmi porque suponen un porcentaje muy pequeño, pero sumado al análisis univariante anterior, existe una implicación entre el precio del seguro y el índice de masa corporal, por lo que de momento mantenemos los valores atípicos.\n",
    "\n",
    "Lo mismo para la columna 'charges', nuestra variable objetivo. Procederemos a tratar estos valores para intentar reducir su impacto."
   ]
  },
  {
   "cell_type": "code",
   "execution_count": 18,
   "metadata": {},
   "outputs": [
    {
     "data": {
      "text/plain": [
       "age           0.054781\n",
       "bmi           0.283914\n",
       "children      0.937421\n",
       "smoker_num   -1.463601\n",
       "charges       1.515391\n",
       "dtype: float64"
      ]
     },
     "execution_count": 18,
     "metadata": {},
     "output_type": "execute_result"
    }
   ],
   "source": [
    "data_num.apply(lambda x: x.skew())"
   ]
  },
  {
   "cell_type": "code",
   "execution_count": 19,
   "metadata": {},
   "outputs": [
    {
     "data": {
      "text/plain": [
       "age         0.054781\n",
       "bmi         0.232892\n",
       "children    0.937421\n",
       "charges     1.084697\n",
       "dtype: float64"
      ]
     },
     "execution_count": 19,
     "metadata": {},
     "output_type": "execute_result"
    }
   ],
   "source": [
    "data_wind = data_num.drop(['smoker_num'], axis=1)\n",
    "\n",
    "# Función para calcular IQR y aplicar winsorización\n",
    "def winsorize_column(column, lower, upper):\n",
    "    q1 = column.quantile(lower)\n",
    "    q3 = column.quantile(upper)\n",
    "    iqr_value = q3-q1\n",
    "    lower_bound = q1 - 1.5 * iqr_value\n",
    "    upper_bound = q3 + 1.5 * iqr_value\n",
    "    column = column.clip(lower=lower_bound, upper=upper_bound)\n",
    "    return column\n",
    "\n",
    "# Calcular el IQR y aplicar winsorización a cada columna\n",
    "for column in data_wind.columns:\n",
    "    data_wind[column] = winsorize_column(data_wind[column], 0.25, 0.75)\n",
    "\n",
    "data_wind.apply(lambda x: x.skew())"
   ]
  },
  {
   "cell_type": "code",
   "execution_count": 20,
   "metadata": {},
   "outputs": [
    {
     "data": {
      "text/html": [
       "<div>\n",
       "<style scoped>\n",
       "    .dataframe tbody tr th:only-of-type {\n",
       "        vertical-align: middle;\n",
       "    }\n",
       "\n",
       "    .dataframe tbody tr th {\n",
       "        vertical-align: top;\n",
       "    }\n",
       "\n",
       "    .dataframe thead th {\n",
       "        text-align: right;\n",
       "    }\n",
       "</style>\n",
       "<table border=\"1\" class=\"dataframe\">\n",
       "  <thead>\n",
       "    <tr style=\"text-align: right;\">\n",
       "      <th></th>\n",
       "      <th>age</th>\n",
       "      <th>bmi</th>\n",
       "      <th>children</th>\n",
       "      <th>charges</th>\n",
       "      <th>smoker_num</th>\n",
       "    </tr>\n",
       "  </thead>\n",
       "  <tbody>\n",
       "    <tr>\n",
       "      <th>0</th>\n",
       "      <td>0.021739</td>\n",
       "      <td>0.321227</td>\n",
       "      <td>0.0</td>\n",
       "      <td>0.251611</td>\n",
       "      <td>0</td>\n",
       "    </tr>\n",
       "    <tr>\n",
       "      <th>1</th>\n",
       "      <td>0.000000</td>\n",
       "      <td>0.479150</td>\n",
       "      <td>0.2</td>\n",
       "      <td>0.009636</td>\n",
       "      <td>1</td>\n",
       "    </tr>\n",
       "    <tr>\n",
       "      <th>2</th>\n",
       "      <td>0.217391</td>\n",
       "      <td>0.458434</td>\n",
       "      <td>0.6</td>\n",
       "      <td>0.053115</td>\n",
       "      <td>1</td>\n",
       "    </tr>\n",
       "    <tr>\n",
       "      <th>3</th>\n",
       "      <td>0.326087</td>\n",
       "      <td>0.181464</td>\n",
       "      <td>0.0</td>\n",
       "      <td>0.333010</td>\n",
       "      <td>1</td>\n",
       "    </tr>\n",
       "    <tr>\n",
       "      <th>4</th>\n",
       "      <td>0.304348</td>\n",
       "      <td>0.347592</td>\n",
       "      <td>0.0</td>\n",
       "      <td>0.043816</td>\n",
       "      <td>1</td>\n",
       "    </tr>\n",
       "  </tbody>\n",
       "</table>\n",
       "</div>"
      ],
      "text/plain": [
       "        age       bmi  children   charges  smoker_num\n",
       "0  0.021739  0.321227       0.0  0.251611           0\n",
       "1  0.000000  0.479150       0.2  0.009636           1\n",
       "2  0.217391  0.458434       0.6  0.053115           1\n",
       "3  0.326087  0.181464       0.0  0.333010           1\n",
       "4  0.304348  0.347592       0.0  0.043816           1"
      ]
     },
     "execution_count": 20,
     "metadata": {},
     "output_type": "execute_result"
    }
   ],
   "source": [
    "escalar_variables = [\"age\", \"bmi\", \"children\", \"charges\"]\n",
    "\n",
    "scaler = MinMaxScaler()\n",
    "\n",
    "escalado = scaler.fit_transform(data_num[escalar_variables])\n",
    "\n",
    "data_scaled = pd.DataFrame(escalado, index = data_num.index, columns = escalar_variables)\n",
    "\n",
    "data_scaled['smoker_num'] = data_num['smoker_num']\n",
    "\n",
    "data_scaled.head()"
   ]
  },
  {
   "cell_type": "code",
   "execution_count": 21,
   "metadata": {},
   "outputs": [],
   "source": [
    "# Variables independientes/dependiente\n",
    "X = data_scaled.drop(['charges'], axis=1)\n",
    "y = data_scaled['charges']\n",
    "\n",
    "# Ajusta el modelo\n",
    "X = sm.add_constant(X)\n",
    "model = sm.OLS(y, X).fit()\n",
    "\n",
    "# Instancia de la influencia y obtención de la distancia de cook para cada observación\n",
    "cooks_distance = model.get_influence().cooks_distance"
   ]
  },
  {
   "cell_type": "code",
   "execution_count": 22,
   "metadata": {},
   "outputs": [
    {
     "data": {
      "image/png": "[encoded data removed]",
      "text/plain": [
       "<Figure size 640x480 with 1 Axes>"
      ]
     },
     "metadata": {},
     "output_type": "display_data"
    }
   ],
   "source": [
    "plt.scatter(data_scaled.charges, cooks_distance[0])\n",
    "plt.xlabel('x')\n",
    "plt.ylabel('Cooks Distance')\n",
    "plt.show()"
   ]
  },
  {
   "cell_type": "code",
   "execution_count": 23,
   "metadata": {},
   "outputs": [
    {
     "data": {
      "text/html": [
       "<div>\n",
       "<style scoped>\n",
       "    .dataframe tbody tr th:only-of-type {\n",
       "        vertical-align: middle;\n",
       "    }\n",
       "\n",
       "    .dataframe tbody tr th {\n",
       "        vertical-align: top;\n",
       "    }\n",
       "\n",
       "    .dataframe thead th {\n",
       "        text-align: right;\n",
       "    }\n",
       "</style>\n",
       "<table border=\"1\" class=\"dataframe\">\n",
       "  <thead>\n",
       "    <tr style=\"text-align: right;\">\n",
       "      <th></th>\n",
       "      <th>age</th>\n",
       "      <th>bmi</th>\n",
       "      <th>children</th>\n",
       "      <th>smoker_num</th>\n",
       "      <th>charges</th>\n",
       "    </tr>\n",
       "  </thead>\n",
       "  <tbody>\n",
       "    <tr>\n",
       "      <th>34</th>\n",
       "      <td>28</td>\n",
       "      <td>36.400</td>\n",
       "      <td>1</td>\n",
       "      <td>0</td>\n",
       "      <td>51194.55914</td>\n",
       "    </tr>\n",
       "    <tr>\n",
       "      <th>321</th>\n",
       "      <td>26</td>\n",
       "      <td>29.640</td>\n",
       "      <td>4</td>\n",
       "      <td>1</td>\n",
       "      <td>24671.66334</td>\n",
       "    </tr>\n",
       "    <tr>\n",
       "      <th>543</th>\n",
       "      <td>54</td>\n",
       "      <td>47.410</td>\n",
       "      <td>0</td>\n",
       "      <td>0</td>\n",
       "      <td>63770.42801</td>\n",
       "    </tr>\n",
       "    <tr>\n",
       "      <th>577</th>\n",
       "      <td>31</td>\n",
       "      <td>38.095</td>\n",
       "      <td>1</td>\n",
       "      <td>0</td>\n",
       "      <td>58571.07448</td>\n",
       "    </tr>\n",
       "    <tr>\n",
       "      <th>818</th>\n",
       "      <td>33</td>\n",
       "      <td>35.530</td>\n",
       "      <td>0</td>\n",
       "      <td>0</td>\n",
       "      <td>55135.40209</td>\n",
       "    </tr>\n",
       "    <tr>\n",
       "      <th>1011</th>\n",
       "      <td>61</td>\n",
       "      <td>33.330</td>\n",
       "      <td>4</td>\n",
       "      <td>1</td>\n",
       "      <td>36580.28216</td>\n",
       "    </tr>\n",
       "    <tr>\n",
       "      <th>1026</th>\n",
       "      <td>23</td>\n",
       "      <td>18.715</td>\n",
       "      <td>0</td>\n",
       "      <td>1</td>\n",
       "      <td>21595.38229</td>\n",
       "    </tr>\n",
       "    <tr>\n",
       "      <th>1229</th>\n",
       "      <td>52</td>\n",
       "      <td>34.485</td>\n",
       "      <td>3</td>\n",
       "      <td>0</td>\n",
       "      <td>60021.39897</td>\n",
       "    </tr>\n",
       "    <tr>\n",
       "      <th>1299</th>\n",
       "      <td>45</td>\n",
       "      <td>30.360</td>\n",
       "      <td>0</td>\n",
       "      <td>0</td>\n",
       "      <td>62592.87309</td>\n",
       "    </tr>\n",
       "  </tbody>\n",
       "</table>\n",
       "</div>"
      ],
      "text/plain": [
       "      age     bmi  children  smoker_num      charges\n",
       "34     28  36.400         1           0  51194.55914\n",
       "321    26  29.640         4           1  24671.66334\n",
       "543    54  47.410         0           0  63770.42801\n",
       "577    31  38.095         1           0  58571.07448\n",
       "818    33  35.530         0           0  55135.40209\n",
       "1011   61  33.330         4           1  36580.28216\n",
       "1026   23  18.715         0           1  21595.38229\n",
       "1229   52  34.485         3           0  60021.39897\n",
       "1299   45  30.360         0           0  62592.87309"
      ]
     },
     "execution_count": 23,
     "metadata": {},
     "output_type": "execute_result"
    }
   ],
   "source": [
    "out = np.where(cooks_distance[0]>0.01)\n",
    "d_out = data_num.iloc[out]\n",
    "d_out"
   ]
  },
  {
   "cell_type": "markdown",
   "metadata": {},
   "source": [
    "Los valores atípicos son legítimos y representan eventos o fenómenos reales en los datos, eliminarlos puede resultar en una pérdida de información importante y sesgar el análisis.\n",
    "\n",
    "Veremos si afectan significativamente el modelo: Si los valores atípicos tienen una influencia mínima en el rendimiento del modelo y no afectan sustancialmente los resultados, puede ser innecesario eliminarlos y puede preferirse mantener la integridad de los datos."
   ]
  },
  {
   "cell_type": "code",
   "execution_count": 24,
   "metadata": {},
   "outputs": [
    {
     "data": {
      "text/plain": [
       "False"
      ]
     },
     "execution_count": 24,
     "metadata": {},
     "output_type": "execute_result"
    }
   ],
   "source": [
    "data.isnull().any().any()"
   ]
  }
 ],
 "metadata": {
  "kernelspec": {
   "display_name": "Python 3",
   "language": "python",
   "name": "python3"
  },
  "language_info": {
   "codemirror_mode": {
    "name": "ipython",
    "version": 3
   },
   "file_extension": ".py",
   "mimetype": "text/x-python",
   "name": "python",
   "nbconvert_exporter": "python",
   "pygments_lexer": "ipython3",
   "version": "3.10.12"
  }
 },
 "nbformat": 4,
 "nbformat_minor": 2
}
