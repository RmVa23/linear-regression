{
    "cells": [
        {
            "cell_type": "markdown",
            "metadata": {},
            "source": [
                "# Explore here"
            ]
        },
        {
            "cell_type": "code",
            "execution_count": 163,
            "metadata": {},
            "outputs": [],
            "source": [
                "import pandas as pd\n",
                "from utils import db_connect\n",
                "import matplotlib.pyplot as plt \n",
                "import seaborn as sns\n",
                "import numpy as np\n",
                "from scipy import stats"
            ]
        },
        {
            "cell_type": "code",
            "execution_count": 164,
            "metadata": {},
            "outputs": [
                {
                    "data": {
                        "text/html": [
                            "<div>\n",
                            "<style scoped>\n",
                            "    .dataframe tbody tr th:only-of-type {\n",
                            "        vertical-align: middle;\n",
                            "    }\n",
                            "\n",
                            "    .dataframe tbody tr th {\n",
                            "        vertical-align: top;\n",
                            "    }\n",
                            "\n",
                            "    .dataframe thead th {\n",
                            "        text-align: right;\n",
                            "    }\n",
                            "</style>\n",
                            "<table border=\"1\" class=\"dataframe\">\n",
                            "  <thead>\n",
                            "    <tr style=\"text-align: right;\">\n",
                            "      <th></th>\n",
                            "      <th>age</th>\n",
                            "      <th>sex</th>\n",
                            "      <th>bmi</th>\n",
                            "      <th>children</th>\n",
                            "      <th>smoker</th>\n",
                            "      <th>region</th>\n",
                            "      <th>charges</th>\n",
                            "    </tr>\n",
                            "  </thead>\n",
                            "  <tbody>\n",
                            "    <tr>\n",
                            "      <th>0</th>\n",
                            "      <td>19</td>\n",
                            "      <td>female</td>\n",
                            "      <td>27.900</td>\n",
                            "      <td>0</td>\n",
                            "      <td>yes</td>\n",
                            "      <td>southwest</td>\n",
                            "      <td>16884.92400</td>\n",
                            "    </tr>\n",
                            "    <tr>\n",
                            "      <th>1</th>\n",
                            "      <td>18</td>\n",
                            "      <td>male</td>\n",
                            "      <td>33.770</td>\n",
                            "      <td>1</td>\n",
                            "      <td>no</td>\n",
                            "      <td>southeast</td>\n",
                            "      <td>1725.55230</td>\n",
                            "    </tr>\n",
                            "    <tr>\n",
                            "      <th>2</th>\n",
                            "      <td>28</td>\n",
                            "      <td>male</td>\n",
                            "      <td>33.000</td>\n",
                            "      <td>3</td>\n",
                            "      <td>no</td>\n",
                            "      <td>southeast</td>\n",
                            "      <td>4449.46200</td>\n",
                            "    </tr>\n",
                            "    <tr>\n",
                            "      <th>3</th>\n",
                            "      <td>33</td>\n",
                            "      <td>male</td>\n",
                            "      <td>22.705</td>\n",
                            "      <td>0</td>\n",
                            "      <td>no</td>\n",
                            "      <td>northwest</td>\n",
                            "      <td>21984.47061</td>\n",
                            "    </tr>\n",
                            "    <tr>\n",
                            "      <th>4</th>\n",
                            "      <td>32</td>\n",
                            "      <td>male</td>\n",
                            "      <td>28.880</td>\n",
                            "      <td>0</td>\n",
                            "      <td>no</td>\n",
                            "      <td>northwest</td>\n",
                            "      <td>3866.85520</td>\n",
                            "    </tr>\n",
                            "  </tbody>\n",
                            "</table>\n",
                            "</div>"
                        ],
                        "text/plain": [
                            "   age     sex     bmi  children smoker     region      charges\n",
                            "0   19  female  27.900         0    yes  southwest  16884.92400\n",
                            "1   18    male  33.770         1     no  southeast   1725.55230\n",
                            "2   28    male  33.000         3     no  southeast   4449.46200\n",
                            "3   33    male  22.705         0     no  northwest  21984.47061\n",
                            "4   32    male  28.880         0     no  northwest   3866.85520"
                        ]
                    },
                    "execution_count": 164,
                    "metadata": {},
                    "output_type": "execute_result"
                }
            ],
            "source": [
                "# Establecer la conexión a la base de datos\n",
                "engine = db_connect()\n",
                "\n",
                "# Verificar si la conexión es exitosa\n",
                "#if engine:\n",
                "    #print(\"Conexión exitosa\")\n",
                "\n",
                "# Consultar la tabla en la base de datos y crear un DataFrame\n",
                "data = pd.read_sql_table('tabla seguro', engine)\n",
                "\n",
                "pd.set_option('display.max_columns', None)  # muestra todas las columnas del dataframe\n",
                "data.head()"
            ]
        },
        {
            "cell_type": "code",
            "execution_count": 165,
            "metadata": {},
            "outputs": [
                {
                    "data": {
                        "text/plain": [
                            "(1338, 7)"
                        ]
                    },
                    "execution_count": 165,
                    "metadata": {},
                    "output_type": "execute_result"
                }
            ],
            "source": [
                "data.shape"
            ]
        },
        {
            "cell_type": "code",
            "execution_count": 166,
            "metadata": {},
            "outputs": [
                {
                    "name": "stdout",
                    "output_type": "stream",
                    "text": [
                        "<class 'pandas.core.frame.DataFrame'>\n",
                        "RangeIndex: 1338 entries, 0 to 1337\n",
                        "Data columns (total 7 columns):\n",
                        " #   Column    Non-Null Count  Dtype  \n",
                        "---  ------    --------------  -----  \n",
                        " 0   age       1338 non-null   int64  \n",
                        " 1   sex       1338 non-null   object \n",
                        " 2   bmi       1338 non-null   float64\n",
                        " 3   children  1338 non-null   int64  \n",
                        " 4   smoker    1338 non-null   object \n",
                        " 5   region    1338 non-null   object \n",
                        " 6   charges   1338 non-null   float64\n",
                        "dtypes: float64(2), int64(2), object(3)\n",
                        "memory usage: 73.3+ KB\n"
                    ]
                }
            ],
            "source": [
                "data.info()"
            ]
        },
        {
            "cell_type": "code",
            "execution_count": 167,
            "metadata": {},
            "outputs": [
                {
                    "data": {
                        "text/plain": [
                            "age           47\n",
                            "sex            2\n",
                            "bmi          548\n",
                            "children       6\n",
                            "smoker         2\n",
                            "region         4\n",
                            "charges     1337\n",
                            "dtype: int64"
                        ]
                    },
                    "execution_count": 167,
                    "metadata": {},
                    "output_type": "execute_result"
                }
            ],
            "source": [
                "data.nunique()"
            ]
        },
        {
            "cell_type": "code",
            "execution_count": 168,
            "metadata": {},
            "outputs": [
                {
                    "data": {
                        "text/plain": [
                            "False"
                        ]
                    },
                    "execution_count": 168,
                    "metadata": {},
                    "output_type": "execute_result"
                }
            ],
            "source": [
                "data.isnull().any().any()"
            ]
        },
        {
            "cell_type": "code",
            "execution_count": 169,
            "metadata": {},
            "outputs": [
                {
                    "data": {
                        "text/html": [
                            "<div>\n",
                            "<style scoped>\n",
                            "    .dataframe tbody tr th:only-of-type {\n",
                            "        vertical-align: middle;\n",
                            "    }\n",
                            "\n",
                            "    .dataframe tbody tr th {\n",
                            "        vertical-align: top;\n",
                            "    }\n",
                            "\n",
                            "    .dataframe thead th {\n",
                            "        text-align: right;\n",
                            "    }\n",
                            "</style>\n",
                            "<table border=\"1\" class=\"dataframe\">\n",
                            "  <thead>\n",
                            "    <tr style=\"text-align: right;\">\n",
                            "      <th></th>\n",
                            "      <th>age</th>\n",
                            "      <th>sex</th>\n",
                            "      <th>bmi</th>\n",
                            "      <th>children</th>\n",
                            "      <th>smoker</th>\n",
                            "      <th>region</th>\n",
                            "      <th>charges</th>\n",
                            "    </tr>\n",
                            "  </thead>\n",
                            "  <tbody>\n",
                            "    <tr>\n",
                            "      <th>581</th>\n",
                            "      <td>19</td>\n",
                            "      <td>male</td>\n",
                            "      <td>30.59</td>\n",
                            "      <td>0</td>\n",
                            "      <td>no</td>\n",
                            "      <td>northwest</td>\n",
                            "      <td>1639.5631</td>\n",
                            "    </tr>\n",
                            "  </tbody>\n",
                            "</table>\n",
                            "</div>"
                        ],
                        "text/plain": [
                            "     age   sex    bmi  children smoker     region    charges\n",
                            "581   19  male  30.59         0     no  northwest  1639.5631"
                        ]
                    },
                    "execution_count": 169,
                    "metadata": {},
                    "output_type": "execute_result"
                }
            ],
            "source": [
                "data.duplicated().sum()\n",
                "fila_duplicada = data[data.duplicated()]\n",
                "fila_duplicada"
            ]
        },
        {
            "cell_type": "code",
            "execution_count": 170,
            "metadata": {},
            "outputs": [
                {
                    "data": {
                        "text/plain": [
                            "0"
                        ]
                    },
                    "execution_count": 170,
                    "metadata": {},
                    "output_type": "execute_result"
                }
            ],
            "source": [
                "data = data.drop_duplicates().reset_index(drop = True)\n",
                "data.duplicated().sum()"
            ]
        },
        {
            "cell_type": "code",
            "execution_count": 171,
            "metadata": {},
            "outputs": [
                {
                    "data": {
                        "text/html": [
                            "<div>\n",
                            "<style scoped>\n",
                            "    .dataframe tbody tr th:only-of-type {\n",
                            "        vertical-align: middle;\n",
                            "    }\n",
                            "\n",
                            "    .dataframe tbody tr th {\n",
                            "        vertical-align: top;\n",
                            "    }\n",
                            "\n",
                            "    .dataframe thead th {\n",
                            "        text-align: right;\n",
                            "    }\n",
                            "</style>\n",
                            "<table border=\"1\" class=\"dataframe\">\n",
                            "  <thead>\n",
                            "    <tr style=\"text-align: right;\">\n",
                            "      <th></th>\n",
                            "      <th>count</th>\n",
                            "      <th>mean</th>\n",
                            "      <th>std</th>\n",
                            "      <th>min</th>\n",
                            "      <th>25%</th>\n",
                            "      <th>50%</th>\n",
                            "      <th>75%</th>\n",
                            "      <th>max</th>\n",
                            "    </tr>\n",
                            "  </thead>\n",
                            "  <tbody>\n",
                            "    <tr>\n",
                            "      <th>age</th>\n",
                            "      <td>1337.0</td>\n",
                            "      <td>39.222139</td>\n",
                            "      <td>14.044333</td>\n",
                            "      <td>18.0000</td>\n",
                            "      <td>27.000</td>\n",
                            "      <td>39.0000</td>\n",
                            "      <td>51.00000</td>\n",
                            "      <td>64.00000</td>\n",
                            "    </tr>\n",
                            "    <tr>\n",
                            "      <th>bmi</th>\n",
                            "      <td>1337.0</td>\n",
                            "      <td>30.663452</td>\n",
                            "      <td>6.100468</td>\n",
                            "      <td>15.9600</td>\n",
                            "      <td>26.290</td>\n",
                            "      <td>30.4000</td>\n",
                            "      <td>34.70000</td>\n",
                            "      <td>53.13000</td>\n",
                            "    </tr>\n",
                            "    <tr>\n",
                            "      <th>children</th>\n",
                            "      <td>1337.0</td>\n",
                            "      <td>1.095737</td>\n",
                            "      <td>1.205571</td>\n",
                            "      <td>0.0000</td>\n",
                            "      <td>0.000</td>\n",
                            "      <td>1.0000</td>\n",
                            "      <td>2.00000</td>\n",
                            "      <td>5.00000</td>\n",
                            "    </tr>\n",
                            "    <tr>\n",
                            "      <th>charges</th>\n",
                            "      <td>1337.0</td>\n",
                            "      <td>13279.121487</td>\n",
                            "      <td>12110.359656</td>\n",
                            "      <td>1121.8739</td>\n",
                            "      <td>4746.344</td>\n",
                            "      <td>9386.1613</td>\n",
                            "      <td>16657.71745</td>\n",
                            "      <td>63770.42801</td>\n",
                            "    </tr>\n",
                            "  </tbody>\n",
                            "</table>\n",
                            "</div>"
                        ],
                        "text/plain": [
                            "           count          mean           std        min       25%        50%  \\\n",
                            "age       1337.0     39.222139     14.044333    18.0000    27.000    39.0000   \n",
                            "bmi       1337.0     30.663452      6.100468    15.9600    26.290    30.4000   \n",
                            "children  1337.0      1.095737      1.205571     0.0000     0.000     1.0000   \n",
                            "charges   1337.0  13279.121487  12110.359656  1121.8739  4746.344  9386.1613   \n",
                            "\n",
                            "                  75%          max  \n",
                            "age          51.00000     64.00000  \n",
                            "bmi          34.70000     53.13000  \n",
                            "children      2.00000      5.00000  \n",
                            "charges   16657.71745  63770.42801  "
                        ]
                    },
                    "execution_count": 171,
                    "metadata": {},
                    "output_type": "execute_result"
                }
            ],
            "source": [
                "data.describe().T"
            ]
        },
        {
            "cell_type": "code",
            "execution_count": 172,
            "metadata": {},
            "outputs": [
                {
                    "data": {
                        "text/html": [
                            "<div>\n",
                            "<style scoped>\n",
                            "    .dataframe tbody tr th:only-of-type {\n",
                            "        vertical-align: middle;\n",
                            "    }\n",
                            "\n",
                            "    .dataframe tbody tr th {\n",
                            "        vertical-align: top;\n",
                            "    }\n",
                            "\n",
                            "    .dataframe thead th {\n",
                            "        text-align: right;\n",
                            "    }\n",
                            "</style>\n",
                            "<table border=\"1\" class=\"dataframe\">\n",
                            "  <thead>\n",
                            "    <tr style=\"text-align: right;\">\n",
                            "      <th></th>\n",
                            "      <th>age</th>\n",
                            "      <th>sex</th>\n",
                            "      <th>bmi</th>\n",
                            "      <th>children</th>\n",
                            "      <th>smoker</th>\n",
                            "      <th>region</th>\n",
                            "      <th>charges</th>\n",
                            "      <th>sex_num</th>\n",
                            "      <th>smoker_num</th>\n",
                            "      <th>region_num</th>\n",
                            "    </tr>\n",
                            "  </thead>\n",
                            "  <tbody>\n",
                            "    <tr>\n",
                            "      <th>0</th>\n",
                            "      <td>19</td>\n",
                            "      <td>female</td>\n",
                            "      <td>27.900</td>\n",
                            "      <td>0</td>\n",
                            "      <td>yes</td>\n",
                            "      <td>southwest</td>\n",
                            "      <td>16884.92400</td>\n",
                            "      <td>0</td>\n",
                            "      <td>0</td>\n",
                            "      <td>0</td>\n",
                            "    </tr>\n",
                            "    <tr>\n",
                            "      <th>1</th>\n",
                            "      <td>18</td>\n",
                            "      <td>male</td>\n",
                            "      <td>33.770</td>\n",
                            "      <td>1</td>\n",
                            "      <td>no</td>\n",
                            "      <td>southeast</td>\n",
                            "      <td>1725.55230</td>\n",
                            "      <td>1</td>\n",
                            "      <td>1</td>\n",
                            "      <td>1</td>\n",
                            "    </tr>\n",
                            "    <tr>\n",
                            "      <th>2</th>\n",
                            "      <td>28</td>\n",
                            "      <td>male</td>\n",
                            "      <td>33.000</td>\n",
                            "      <td>3</td>\n",
                            "      <td>no</td>\n",
                            "      <td>southeast</td>\n",
                            "      <td>4449.46200</td>\n",
                            "      <td>1</td>\n",
                            "      <td>1</td>\n",
                            "      <td>1</td>\n",
                            "    </tr>\n",
                            "    <tr>\n",
                            "      <th>3</th>\n",
                            "      <td>33</td>\n",
                            "      <td>male</td>\n",
                            "      <td>22.705</td>\n",
                            "      <td>0</td>\n",
                            "      <td>no</td>\n",
                            "      <td>northwest</td>\n",
                            "      <td>21984.47061</td>\n",
                            "      <td>1</td>\n",
                            "      <td>1</td>\n",
                            "      <td>2</td>\n",
                            "    </tr>\n",
                            "    <tr>\n",
                            "      <th>4</th>\n",
                            "      <td>32</td>\n",
                            "      <td>male</td>\n",
                            "      <td>28.880</td>\n",
                            "      <td>0</td>\n",
                            "      <td>no</td>\n",
                            "      <td>northwest</td>\n",
                            "      <td>3866.85520</td>\n",
                            "      <td>1</td>\n",
                            "      <td>1</td>\n",
                            "      <td>2</td>\n",
                            "    </tr>\n",
                            "  </tbody>\n",
                            "</table>\n",
                            "</div>"
                        ],
                        "text/plain": [
                            "   age     sex     bmi  children smoker     region      charges  sex_num  \\\n",
                            "0   19  female  27.900         0    yes  southwest  16884.92400        0   \n",
                            "1   18    male  33.770         1     no  southeast   1725.55230        1   \n",
                            "2   28    male  33.000         3     no  southeast   4449.46200        1   \n",
                            "3   33    male  22.705         0     no  northwest  21984.47061        1   \n",
                            "4   32    male  28.880         0     no  northwest   3866.85520        1   \n",
                            "\n",
                            "   smoker_num  region_num  \n",
                            "0           0           0  \n",
                            "1           1           1  \n",
                            "2           1           1  \n",
                            "3           1           2  \n",
                            "4           1           2  "
                        ]
                    },
                    "execution_count": 172,
                    "metadata": {},
                    "output_type": "execute_result"
                }
            ],
            "source": [
                "# Usamos pd.factorize para codificar las columnas para preservar el orden de las categorias, \n",
                "# a diferencia de LabelEncoder, que usa menos memoria pero no mantiene el orden de las categorias.\n",
                "\n",
                "# Nos decidimos por esta forma ya que tenemos pocas categorías distintas, y pd.factorize\n",
                "# devuelve tanto los códigos numéricos como las categorías originales, lo que puede ser útil para futuros análisis.\n",
                "\n",
                "data[\"sex_num\"] = pd.factorize(data[\"sex\"])[0]\n",
                "data[\"smoker_num\"] = pd.factorize(data[\"smoker\"])[0]\n",
                "data[\"region_num\"] = pd.factorize(data[\"region\"])[0]\n",
                "\n",
                "data.head()\n",
                "\n"
            ]
        },
        {
            "cell_type": "code",
            "execution_count": 173,
            "metadata": {},
            "outputs": [
                {
                    "data": {
                        "text/html": [
                            "<div>\n",
                            "<style scoped>\n",
                            "    .dataframe tbody tr th:only-of-type {\n",
                            "        vertical-align: middle;\n",
                            "    }\n",
                            "\n",
                            "    .dataframe tbody tr th {\n",
                            "        vertical-align: top;\n",
                            "    }\n",
                            "\n",
                            "    .dataframe thead th {\n",
                            "        text-align: right;\n",
                            "    }\n",
                            "</style>\n",
                            "<table border=\"1\" class=\"dataframe\">\n",
                            "  <thead>\n",
                            "    <tr style=\"text-align: right;\">\n",
                            "      <th></th>\n",
                            "      <th>age</th>\n",
                            "      <th>bmi</th>\n",
                            "      <th>children</th>\n",
                            "      <th>sex_num</th>\n",
                            "      <th>smoker_num</th>\n",
                            "      <th>region_num</th>\n",
                            "      <th>charges</th>\n",
                            "    </tr>\n",
                            "  </thead>\n",
                            "  <tbody>\n",
                            "    <tr>\n",
                            "      <th>age</th>\n",
                            "      <td>1.000000</td>\n",
                            "      <td>0.109344</td>\n",
                            "      <td>0.041536</td>\n",
                            "      <td>-0.019814</td>\n",
                            "      <td>0.025587</td>\n",
                            "      <td>-0.001626</td>\n",
                            "      <td>0.298308</td>\n",
                            "    </tr>\n",
                            "    <tr>\n",
                            "      <th>bmi</th>\n",
                            "      <td>0.109344</td>\n",
                            "      <td>1.000000</td>\n",
                            "      <td>0.012755</td>\n",
                            "      <td>0.046397</td>\n",
                            "      <td>-0.003746</td>\n",
                            "      <td>-0.157574</td>\n",
                            "      <td>0.198401</td>\n",
                            "    </tr>\n",
                            "    <tr>\n",
                            "      <th>children</th>\n",
                            "      <td>0.041536</td>\n",
                            "      <td>0.012755</td>\n",
                            "      <td>1.000000</td>\n",
                            "      <td>0.017848</td>\n",
                            "      <td>-0.007331</td>\n",
                            "      <td>-0.016258</td>\n",
                            "      <td>0.067389</td>\n",
                            "    </tr>\n",
                            "    <tr>\n",
                            "      <th>sex_num</th>\n",
                            "      <td>-0.019814</td>\n",
                            "      <td>0.046397</td>\n",
                            "      <td>0.017848</td>\n",
                            "      <td>1.000000</td>\n",
                            "      <td>-0.076596</td>\n",
                            "      <td>-0.004936</td>\n",
                            "      <td>0.058044</td>\n",
                            "    </tr>\n",
                            "    <tr>\n",
                            "      <th>smoker_num</th>\n",
                            "      <td>0.025587</td>\n",
                            "      <td>-0.003746</td>\n",
                            "      <td>-0.007331</td>\n",
                            "      <td>-0.076596</td>\n",
                            "      <td>1.000000</td>\n",
                            "      <td>-0.002358</td>\n",
                            "      <td>-0.787234</td>\n",
                            "    </tr>\n",
                            "    <tr>\n",
                            "      <th>region_num</th>\n",
                            "      <td>-0.001626</td>\n",
                            "      <td>-0.157574</td>\n",
                            "      <td>-0.016258</td>\n",
                            "      <td>-0.004936</td>\n",
                            "      <td>-0.002358</td>\n",
                            "      <td>1.000000</td>\n",
                            "      <td>0.006547</td>\n",
                            "    </tr>\n",
                            "    <tr>\n",
                            "      <th>charges</th>\n",
                            "      <td>0.298308</td>\n",
                            "      <td>0.198401</td>\n",
                            "      <td>0.067389</td>\n",
                            "      <td>0.058044</td>\n",
                            "      <td>-0.787234</td>\n",
                            "      <td>0.006547</td>\n",
                            "      <td>1.000000</td>\n",
                            "    </tr>\n",
                            "  </tbody>\n",
                            "</table>\n",
                            "</div>"
                        ],
                        "text/plain": [
                            "                 age       bmi  children   sex_num  smoker_num  region_num  \\\n",
                            "age         1.000000  0.109344  0.041536 -0.019814    0.025587   -0.001626   \n",
                            "bmi         0.109344  1.000000  0.012755  0.046397   -0.003746   -0.157574   \n",
                            "children    0.041536  0.012755  1.000000  0.017848   -0.007331   -0.016258   \n",
                            "sex_num    -0.019814  0.046397  0.017848  1.000000   -0.076596   -0.004936   \n",
                            "smoker_num  0.025587 -0.003746 -0.007331 -0.076596    1.000000   -0.002358   \n",
                            "region_num -0.001626 -0.157574 -0.016258 -0.004936   -0.002358    1.000000   \n",
                            "charges     0.298308  0.198401  0.067389  0.058044   -0.787234    0.006547   \n",
                            "\n",
                            "             charges  \n",
                            "age         0.298308  \n",
                            "bmi         0.198401  \n",
                            "children    0.067389  \n",
                            "sex_num     0.058044  \n",
                            "smoker_num -0.787234  \n",
                            "region_num  0.006547  \n",
                            "charges     1.000000  "
                        ]
                    },
                    "execution_count": 173,
                    "metadata": {},
                    "output_type": "execute_result"
                }
            ],
            "source": [
                "data_num = data[[\"age\", \"bmi\", \"children\", \"sex_num\", \"smoker_num\", \"region_num\", \"charges\"]].copy() # .copy() para crear dataframe independiente al original\n",
                "data_num.corr()\n",
                "\n",
                "# Vemos que apenas hay correlacion entre la región y la prima de seguro, algo normal,\n",
                "#  * ya que si bien una region puede tener una tendencia hacia una característica influyente mayor que la otra, no tiene que verse reflejada\n",
                "#  * en todos los sujetos de dicha zona, por lo que sería injusto que, por ejemplo, su prima aumentase por proceder de una zona con mayor \n",
                "#  * índice de fumadores, a pesar de que el sujeto concreto no haya fumado en su vida.\n",
                "# Lo mismo ocurre en relación al sexo.\n",
                "\n",
                "# Por tanto, eliminaremos las variables."
            ]
        },
        {
            "cell_type": "markdown",
            "metadata": {},
            "source": [
                "Edad y Costos: Hay una correlación positiva moderada entre la edad y los costos médicos. Esto sugiere que a medida que la edad aumenta, es probable que los costos médicos también aumenten, lo cual es razonable ya que las personas mayores tienden a tener más problemas de salud y pueden requerir más atención médica.\n",
                "\n",
                "IMC (BMI) y Costos: Existe una correlación positiva leve entre el índice de masa corporal (IMC) y los costos médicos. Esto indica que las personas con un IMC más alto tienden a tener costos médicos ligeramente más altos. Sin embargo, la correlación no es muy fuerte.\n",
                "\n",
                "Fumadores y Costos: La correlación entre el hecho de ser fumador y los costos médicos es bastante alta y negativa. Esto sugiere que los fumadores tienden a tener costos médicos mucho más altos en comparación con los no fumadores. Esta es una observación significativa y coherente con la literatura médica, ya que el hábito de fumar está asociado con una variedad de problemas de salud.\n",
                "\n",
                "Región y Costos: La correlación entre la región y los costos médicos es muy baja, lo que indica que la región donde reside una persona tiene una influencia mínima en sus costos médicos.\n",
                "\n",
                "Sexo y Costos: La correlación entre el sexo y los costos médicos es muy baja, lo que indica que no hay una relación significativa entre el sexo de una persona y sus costos médicos.\n",
                "\n",
                "En resumen, la edad, el IMC y el hábito de fumar parecen ser los factores más influyentes en los costos médicos, según esta matriz de correlación."
            ]
        },
        {
            "cell_type": "code",
            "execution_count": 174,
            "metadata": {},
            "outputs": [
                {
                    "data": {
                        "text/html": [
                            "<div>\n",
                            "<style scoped>\n",
                            "    .dataframe tbody tr th:only-of-type {\n",
                            "        vertical-align: middle;\n",
                            "    }\n",
                            "\n",
                            "    .dataframe tbody tr th {\n",
                            "        vertical-align: top;\n",
                            "    }\n",
                            "\n",
                            "    .dataframe thead th {\n",
                            "        text-align: right;\n",
                            "    }\n",
                            "</style>\n",
                            "<table border=\"1\" class=\"dataframe\">\n",
                            "  <thead>\n",
                            "    <tr style=\"text-align: right;\">\n",
                            "      <th></th>\n",
                            "      <th>age</th>\n",
                            "      <th>bmi</th>\n",
                            "      <th>children</th>\n",
                            "      <th>smoker</th>\n",
                            "      <th>charges</th>\n",
                            "      <th>smoker_num</th>\n",
                            "    </tr>\n",
                            "  </thead>\n",
                            "  <tbody>\n",
                            "    <tr>\n",
                            "      <th>0</th>\n",
                            "      <td>19</td>\n",
                            "      <td>27.900</td>\n",
                            "      <td>0</td>\n",
                            "      <td>yes</td>\n",
                            "      <td>16884.92400</td>\n",
                            "      <td>0</td>\n",
                            "    </tr>\n",
                            "    <tr>\n",
                            "      <th>1</th>\n",
                            "      <td>18</td>\n",
                            "      <td>33.770</td>\n",
                            "      <td>1</td>\n",
                            "      <td>no</td>\n",
                            "      <td>1725.55230</td>\n",
                            "      <td>1</td>\n",
                            "    </tr>\n",
                            "    <tr>\n",
                            "      <th>2</th>\n",
                            "      <td>28</td>\n",
                            "      <td>33.000</td>\n",
                            "      <td>3</td>\n",
                            "      <td>no</td>\n",
                            "      <td>4449.46200</td>\n",
                            "      <td>1</td>\n",
                            "    </tr>\n",
                            "    <tr>\n",
                            "      <th>3</th>\n",
                            "      <td>33</td>\n",
                            "      <td>22.705</td>\n",
                            "      <td>0</td>\n",
                            "      <td>no</td>\n",
                            "      <td>21984.47061</td>\n",
                            "      <td>1</td>\n",
                            "    </tr>\n",
                            "    <tr>\n",
                            "      <th>4</th>\n",
                            "      <td>32</td>\n",
                            "      <td>28.880</td>\n",
                            "      <td>0</td>\n",
                            "      <td>no</td>\n",
                            "      <td>3866.85520</td>\n",
                            "      <td>1</td>\n",
                            "    </tr>\n",
                            "  </tbody>\n",
                            "</table>\n",
                            "</div>"
                        ],
                        "text/plain": [
                            "   age     bmi  children smoker      charges  smoker_num\n",
                            "0   19  27.900         0    yes  16884.92400           0\n",
                            "1   18  33.770         1     no   1725.55230           1\n",
                            "2   28  33.000         3     no   4449.46200           1\n",
                            "3   33  22.705         0     no  21984.47061           1\n",
                            "4   32  28.880         0     no   3866.85520           1"
                        ]
                    },
                    "execution_count": 174,
                    "metadata": {},
                    "output_type": "execute_result"
                }
            ],
            "source": [
                "data.drop(['region', 'region_num', 'sex', 'sex_num'], axis=1, inplace=True)\n",
                "data_num.drop(['region_num', 'sex_num'], axis=1, inplace=True)\n",
                "data.head()"
            ]
        },
        {
            "cell_type": "code",
            "execution_count": 175,
            "metadata": {},
            "outputs": [],
            "source": [
                "#  Buscar valores atípicos (y ver si corresponderia tambien consultar la influencia), antes de elegir el método de escalado"
            ]
        },
        {
            "cell_type": "code",
            "execution_count": 176,
            "metadata": {},
            "outputs": [
                {
                    "data": {
                        "image/png": "[encoded data removed]",
                        "text/plain": [
                            "<Figure size 1000x500 with 2 Axes>"
                        ]
                    },
                    "metadata": {},
                    "output_type": "display_data"
                }
            ],
            "source": [
                "# Análisis ded variables univariantes (categóricas)\n",
                "\n",
                "fig, axis = plt.subplots(1, 2, figsize = (10, 5))\n",
                "\n",
                "# Crear un histograma múltiple\n",
                "sns.histplot(ax = axis[0], data = data, x = \"children\").set(ylabel = None)\n",
                "sns.histplot(ax = axis[1], data = data, x = \"smoker\").set_xlim(-0.1, 1.1)\n",
                "\n",
                "\n",
                "# Ajustar el layout\n",
                "plt.tight_layout()\n",
                "\n",
                "# Mostrar el plot\n",
                "plt.show()"
            ]
        },
        {
            "cell_type": "code",
            "execution_count": 177,
            "metadata": {},
            "outputs": [
                {
                    "data": {
                        "image/png": "[encoded data removed]",
                        "text/plain": [
                            "<Figure size 1000x500 with 4 Axes>"
                        ]
                    },
                    "metadata": {},
                    "output_type": "display_data"
                }
            ],
            "source": [
                "# Análisis sobre variables numéricas\n",
                "\n",
                "fig, axis = plt.subplots(2, 2, figsize = (10, 5), gridspec_kw={'height_ratios': [6, 1]})\n",
                "\n",
                "# Crear una figura múltiple con histogramas y diagramas de caja\n",
                "sns.histplot(ax = axis[0, 0], data = data, x = \"age\").set(xlabel = None)\n",
                "sns.boxplot(ax = axis[1, 0], data = data, x = \"age\")\n",
                "sns.histplot(ax = axis[0, 1], data = data, x = \"bmi\").set(xlabel = None, ylabel = None)\n",
                "sns.boxplot(ax = axis[1, 1], data = data, x = \"bmi\")\n",
                "\n",
                "# Ajustar el layout\n",
                "plt.tight_layout()\n",
                "\n",
                "# Mostrar el plot\n",
                "plt.show()"
            ]
        },
        {
            "cell_type": "code",
            "execution_count": 178,
            "metadata": {},
            "outputs": [
                {
                    "data": {
                        "text/plain": [
                            "<Axes: xlabel='charges'>"
                        ]
                    },
                    "execution_count": 178,
                    "metadata": {},
                    "output_type": "execute_result"
                },
                {
                    "data": {
                        "image/png": "[encoded data removed]",
                        "text/plain": [
                            "<Figure size 1000x500 with 2 Axes>"
                        ]
                    },
                    "metadata": {},
                    "output_type": "display_data"
                }
            ],
            "source": [
                "fig, axis = plt.subplots(2, 1, figsize = (10, 5), gridspec_kw={'height_ratios': [6, 1]})\n",
                "\n",
                "# Crear una figura múltiple con histogramas y diagramas de caja\n",
                "sns.histplot(ax = axis[0], data = data, x = \"charges\").set(xlabel = None)\n",
                "sns.boxplot(ax = axis[1], data = data, x = \"charges\")"
            ]
        },
        {
            "cell_type": "code",
            "execution_count": 179,
            "metadata": {},
            "outputs": [
                {
                    "data": {
                        "text/plain": [
                            "<Axes: xlabel='charges_log'>"
                        ]
                    },
                    "execution_count": 179,
                    "metadata": {},
                    "output_type": "execute_result"
                },
                {
                    "data": {
                        "image/png": "[encoded data removed]",
                        "text/plain": [
                            "<Figure size 1000x500 with 2 Axes>"
                        ]
                    },
                    "metadata": {},
                    "output_type": "display_data"
                }
            ],
            "source": [
                "data['charges_log'] = np.log(data.charges)\n",
                "\n",
                "fig, axis = plt.subplots(2, 1, figsize = (10, 5), gridspec_kw={'height_ratios': [6, 1]})\n",
                "\n",
                "# Crear una figura múltiple con histogramas y diagramas de caja\n",
                "sns.histplot(ax = axis[0], data = data, x = \"charges_log\").set(xlabel = None)\n",
                "sns.boxplot(ax = axis[1], data = data, x = \"charges_log\")"
            ]
        },
        {
            "cell_type": "code",
            "execution_count": 180,
            "metadata": {},
            "outputs": [
                {
                    "data": {
                        "text/html": [
                            "<div>\n",
                            "<style scoped>\n",
                            "    .dataframe tbody tr th:only-of-type {\n",
                            "        vertical-align: middle;\n",
                            "    }\n",
                            "\n",
                            "    .dataframe tbody tr th {\n",
                            "        vertical-align: top;\n",
                            "    }\n",
                            "\n",
                            "    .dataframe thead th {\n",
                            "        text-align: right;\n",
                            "    }\n",
                            "</style>\n",
                            "<table border=\"1\" class=\"dataframe\">\n",
                            "  <thead>\n",
                            "    <tr style=\"text-align: right;\">\n",
                            "      <th></th>\n",
                            "      <th>age</th>\n",
                            "      <th>bmi</th>\n",
                            "      <th>children</th>\n",
                            "      <th>smoker</th>\n",
                            "      <th>charges</th>\n",
                            "      <th>smoker_num</th>\n",
                            "      <th>charges_log</th>\n",
                            "    </tr>\n",
                            "  </thead>\n",
                            "  <tbody>\n",
                            "    <tr>\n",
                            "      <th>0</th>\n",
                            "      <td>19</td>\n",
                            "      <td>27.900</td>\n",
                            "      <td>0</td>\n",
                            "      <td>yes</td>\n",
                            "      <td>16884.92400</td>\n",
                            "      <td>0</td>\n",
                            "      <td>9.734176</td>\n",
                            "    </tr>\n",
                            "    <tr>\n",
                            "      <th>1</th>\n",
                            "      <td>18</td>\n",
                            "      <td>33.770</td>\n",
                            "      <td>1</td>\n",
                            "      <td>no</td>\n",
                            "      <td>1725.55230</td>\n",
                            "      <td>1</td>\n",
                            "      <td>7.453302</td>\n",
                            "    </tr>\n",
                            "    <tr>\n",
                            "      <th>2</th>\n",
                            "      <td>28</td>\n",
                            "      <td>33.000</td>\n",
                            "      <td>3</td>\n",
                            "      <td>no</td>\n",
                            "      <td>4449.46200</td>\n",
                            "      <td>1</td>\n",
                            "      <td>8.400538</td>\n",
                            "    </tr>\n",
                            "    <tr>\n",
                            "      <th>3</th>\n",
                            "      <td>33</td>\n",
                            "      <td>22.705</td>\n",
                            "      <td>0</td>\n",
                            "      <td>no</td>\n",
                            "      <td>21984.47061</td>\n",
                            "      <td>1</td>\n",
                            "      <td>9.998092</td>\n",
                            "    </tr>\n",
                            "    <tr>\n",
                            "      <th>4</th>\n",
                            "      <td>32</td>\n",
                            "      <td>28.880</td>\n",
                            "      <td>0</td>\n",
                            "      <td>no</td>\n",
                            "      <td>3866.85520</td>\n",
                            "      <td>1</td>\n",
                            "      <td>8.260197</td>\n",
                            "    </tr>\n",
                            "  </tbody>\n",
                            "</table>\n",
                            "</div>"
                        ],
                        "text/plain": [
                            "   age     bmi  children smoker      charges  smoker_num  charges_log\n",
                            "0   19  27.900         0    yes  16884.92400           0     9.734176\n",
                            "1   18  33.770         1     no   1725.55230           1     7.453302\n",
                            "2   28  33.000         3     no   4449.46200           1     8.400538\n",
                            "3   33  22.705         0     no  21984.47061           1     9.998092\n",
                            "4   32  28.880         0     no   3866.85520           1     8.260197"
                        ]
                    },
                    "execution_count": 180,
                    "metadata": {},
                    "output_type": "execute_result"
                }
            ],
            "source": [
                "data.head()"
            ]
        },
        {
            "cell_type": "code",
            "execution_count": 181,
            "metadata": {},
            "outputs": [
                {
                    "data": {
                        "image/png": "[encoded data removed]",
                        "text/plain": [
                            "<Figure size 1500x1000 with 6 Axes>"
                        ]
                    },
                    "metadata": {},
                    "output_type": "display_data"
                }
            ],
            "source": [
                "fig, axis = plt.subplots(2, 3, figsize = (15, 10))\n",
                "\n",
                "sns.boxplot(ax = axis[0, 0], data = data, y = \"age\")\n",
                "sns.boxplot(ax = axis[0, 1], data = data, y = \"bmi\")\n",
                "sns.boxplot(ax = axis[0, 2], data = data, y = \"children\")\n",
                "sns.boxplot(ax = axis[1, 0], data = data, y = \"smoker\")\n",
                "sns.boxplot(ax = axis[1, 1], data = data, y = \"charges\")\n",
                "sns.boxplot(ax = axis[1, 2], data = data, y = \"charges_log\")\n",
                "\n",
                "\n",
                "plt.tight_layout()\n",
                "\n",
                "plt.show()"
            ]
        },
        {
            "cell_type": "code",
            "execution_count": 182,
            "metadata": {},
            "outputs": [
                {
                    "data": {
                        "text/html": [
                            "<div>\n",
                            "<style scoped>\n",
                            "    .dataframe tbody tr th:only-of-type {\n",
                            "        vertical-align: middle;\n",
                            "    }\n",
                            "\n",
                            "    .dataframe tbody tr th {\n",
                            "        vertical-align: top;\n",
                            "    }\n",
                            "\n",
                            "    .dataframe thead th {\n",
                            "        text-align: right;\n",
                            "    }\n",
                            "</style>\n",
                            "<table border=\"1\" class=\"dataframe\">\n",
                            "  <thead>\n",
                            "    <tr style=\"text-align: right;\">\n",
                            "      <th></th>\n",
                            "      <th>bmi</th>\n",
                            "      <th>charges</th>\n",
                            "      <th>charges_log</th>\n",
                            "    </tr>\n",
                            "  </thead>\n",
                            "  <tbody>\n",
                            "    <tr>\n",
                            "      <th>count</th>\n",
                            "      <td>1337.000000</td>\n",
                            "      <td>1337.000000</td>\n",
                            "      <td>1337.000000</td>\n",
                            "    </tr>\n",
                            "    <tr>\n",
                            "      <th>mean</th>\n",
                            "      <td>30.663452</td>\n",
                            "      <td>13279.121487</td>\n",
                            "      <td>9.099928</td>\n",
                            "    </tr>\n",
                            "    <tr>\n",
                            "      <th>std</th>\n",
                            "      <td>6.100468</td>\n",
                            "      <td>12110.359656</td>\n",
                            "      <td>0.918699</td>\n",
                            "    </tr>\n",
                            "    <tr>\n",
                            "      <th>min</th>\n",
                            "      <td>15.960000</td>\n",
                            "      <td>1121.873900</td>\n",
                            "      <td>7.022756</td>\n",
                            "    </tr>\n",
                            "    <tr>\n",
                            "      <th>25%</th>\n",
                            "      <td>26.290000</td>\n",
                            "      <td>4746.344000</td>\n",
                            "      <td>8.465130</td>\n",
                            "    </tr>\n",
                            "    <tr>\n",
                            "      <th>50%</th>\n",
                            "      <td>30.400000</td>\n",
                            "      <td>9386.161300</td>\n",
                            "      <td>9.146992</td>\n",
                            "    </tr>\n",
                            "    <tr>\n",
                            "      <th>75%</th>\n",
                            "      <td>34.700000</td>\n",
                            "      <td>16657.717450</td>\n",
                            "      <td>9.720629</td>\n",
                            "    </tr>\n",
                            "    <tr>\n",
                            "      <th>max</th>\n",
                            "      <td>53.130000</td>\n",
                            "      <td>63770.428010</td>\n",
                            "      <td>11.063045</td>\n",
                            "    </tr>\n",
                            "  </tbody>\n",
                            "</table>\n",
                            "</div>"
                        ],
                        "text/plain": [
                            "               bmi       charges  charges_log\n",
                            "count  1337.000000   1337.000000  1337.000000\n",
                            "mean     30.663452  13279.121487     9.099928\n",
                            "std       6.100468  12110.359656     0.918699\n",
                            "min      15.960000   1121.873900     7.022756\n",
                            "25%      26.290000   4746.344000     8.465130\n",
                            "50%      30.400000   9386.161300     9.146992\n",
                            "75%      34.700000  16657.717450     9.720629\n",
                            "max      53.130000  63770.428010    11.063045"
                        ]
                    },
                    "execution_count": 182,
                    "metadata": {},
                    "output_type": "execute_result"
                }
            ],
            "source": [
                "data[['bmi', 'charges', 'charges_log']].describe()"
            ]
        },
        {
            "cell_type": "code",
            "execution_count": 185,
            "metadata": {},
            "outputs": [
                {
                    "name": "stdout",
                    "output_type": "stream",
                    "text": [
                        "Los límites superior e inferior para la búsqueda de outliers son 47.32 y 13.67, con un rango intercuartílico de 8.41\n"
                    ]
                }
            ],
            "source": [
                "bmi_stats = data['bmi'].describe()\n",
                "\n",
                "bmi_iqr = bmi_stats[\"75%\"] - bmi_stats[\"25%\"]\n",
                "upper_limit = bmi_stats[\"75%\"] + 1.5 * bmi_iqr\n",
                "lower_limit = bmi_stats[\"25%\"] - 1.5 * bmi_iqr\n",
                "\n",
                "print(f\"Los límites superior e inferior para la búsqueda de outliers son {round(upper_limit, 2)} y {round(lower_limit, 2)}, con un rango intercuartílico de {round(bmi_iqr, 2)}\")"
            ]
        },
        {
            "cell_type": "code",
            "execution_count": 189,
            "metadata": {},
            "outputs": [
                {
                    "name": "stdout",
                    "output_type": "stream",
                    "text": [
                        "0.6731488406881078%\n"
                    ]
                }
            ],
            "source": [
                "total = (data['bmi'] > 47).sum()\n",
                "print(f\"{((data['bmi'] > 47).sum()) / len(data['bmi']) * 100}%\")\n"
            ]
        },
        {
            "cell_type": "code",
            "execution_count": 191,
            "metadata": {},
            "outputs": [
                {
                    "data": {
                        "text/html": [
                            "<div>\n",
                            "<style scoped>\n",
                            "    .dataframe tbody tr th:only-of-type {\n",
                            "        vertical-align: middle;\n",
                            "    }\n",
                            "\n",
                            "    .dataframe tbody tr th {\n",
                            "        vertical-align: top;\n",
                            "    }\n",
                            "\n",
                            "    .dataframe thead th {\n",
                            "        text-align: right;\n",
                            "    }\n",
                            "</style>\n",
                            "<table border=\"1\" class=\"dataframe\">\n",
                            "  <thead>\n",
                            "    <tr style=\"text-align: right;\">\n",
                            "      <th></th>\n",
                            "      <th>age</th>\n",
                            "      <th>bmi</th>\n",
                            "      <th>children</th>\n",
                            "      <th>smoker</th>\n",
                            "      <th>charges</th>\n",
                            "      <th>smoker_num</th>\n",
                            "      <th>charges_log</th>\n",
                            "    </tr>\n",
                            "  </thead>\n",
                            "  <tbody>\n",
                            "    <tr>\n",
                            "      <th>116</th>\n",
                            "      <td>58</td>\n",
                            "      <td>49.06</td>\n",
                            "      <td>0</td>\n",
                            "      <td>no</td>\n",
                            "      <td>11381.32540</td>\n",
                            "      <td>1</td>\n",
                            "      <td>9.339729</td>\n",
                            "    </tr>\n",
                            "    <tr>\n",
                            "      <th>286</th>\n",
                            "      <td>46</td>\n",
                            "      <td>48.07</td>\n",
                            "      <td>2</td>\n",
                            "      <td>no</td>\n",
                            "      <td>9432.92530</td>\n",
                            "      <td>1</td>\n",
                            "      <td>9.151962</td>\n",
                            "    </tr>\n",
                            "    <tr>\n",
                            "      <th>401</th>\n",
                            "      <td>47</td>\n",
                            "      <td>47.52</td>\n",
                            "      <td>1</td>\n",
                            "      <td>no</td>\n",
                            "      <td>8083.91980</td>\n",
                            "      <td>1</td>\n",
                            "      <td>8.997632</td>\n",
                            "    </tr>\n",
                            "    <tr>\n",
                            "      <th>543</th>\n",
                            "      <td>54</td>\n",
                            "      <td>47.41</td>\n",
                            "      <td>0</td>\n",
                            "      <td>yes</td>\n",
                            "      <td>63770.42801</td>\n",
                            "      <td>0</td>\n",
                            "      <td>11.063045</td>\n",
                            "    </tr>\n",
                            "    <tr>\n",
                            "      <th>846</th>\n",
                            "      <td>23</td>\n",
                            "      <td>50.38</td>\n",
                            "      <td>1</td>\n",
                            "      <td>no</td>\n",
                            "      <td>2438.05520</td>\n",
                            "      <td>1</td>\n",
                            "      <td>7.798956</td>\n",
                            "    </tr>\n",
                            "    <tr>\n",
                            "      <th>859</th>\n",
                            "      <td>37</td>\n",
                            "      <td>47.60</td>\n",
                            "      <td>2</td>\n",
                            "      <td>yes</td>\n",
                            "      <td>46113.51100</td>\n",
                            "      <td>0</td>\n",
                            "      <td>10.738861</td>\n",
                            "    </tr>\n",
                            "    <tr>\n",
                            "      <th>1046</th>\n",
                            "      <td>22</td>\n",
                            "      <td>52.58</td>\n",
                            "      <td>1</td>\n",
                            "      <td>yes</td>\n",
                            "      <td>44501.39820</td>\n",
                            "      <td>0</td>\n",
                            "      <td>10.703276</td>\n",
                            "    </tr>\n",
                            "    <tr>\n",
                            "      <th>1087</th>\n",
                            "      <td>52</td>\n",
                            "      <td>47.74</td>\n",
                            "      <td>1</td>\n",
                            "      <td>no</td>\n",
                            "      <td>9748.91060</td>\n",
                            "      <td>1</td>\n",
                            "      <td>9.184911</td>\n",
                            "    </tr>\n",
                            "    <tr>\n",
                            "      <th>1316</th>\n",
                            "      <td>18</td>\n",
                            "      <td>53.13</td>\n",
                            "      <td>0</td>\n",
                            "      <td>no</td>\n",
                            "      <td>1163.46270</td>\n",
                            "      <td>1</td>\n",
                            "      <td>7.059156</td>\n",
                            "    </tr>\n",
                            "  </tbody>\n",
                            "</table>\n",
                            "</div>"
                        ],
                        "text/plain": [
                            "      age    bmi  children smoker      charges  smoker_num  charges_log\n",
                            "116    58  49.06         0     no  11381.32540           1     9.339729\n",
                            "286    46  48.07         2     no   9432.92530           1     9.151962\n",
                            "401    47  47.52         1     no   8083.91980           1     8.997632\n",
                            "543    54  47.41         0    yes  63770.42801           0    11.063045\n",
                            "846    23  50.38         1     no   2438.05520           1     7.798956\n",
                            "859    37  47.60         2    yes  46113.51100           0    10.738861\n",
                            "1046   22  52.58         1    yes  44501.39820           0    10.703276\n",
                            "1087   52  47.74         1     no   9748.91060           1     9.184911\n",
                            "1316   18  53.13         0     no   1163.46270           1     7.059156"
                        ]
                    },
                    "execution_count": 191,
                    "metadata": {},
                    "output_type": "execute_result"
                }
            ],
            "source": [
                "data[data[\"bmi\"] > 47]\n",
                "\n",
                "# Podríamos eliminar los outlayers porque suponen un porcentaje muy pequeño, pero sumado al análisis univariante anterior,\n",
                "# existe una implicación entre el precio del seguro y el índice de masa corporal, por lo que mantenemos los valores atípicos"
            ]
        },
        {
            "cell_type": "code",
            "execution_count": null,
            "metadata": {},
            "outputs": [],
            "source": [
                "# Escalado de valores\n",
                "\n",
                "escalar_variables = [\"age\", \"bmi\", \"children\", \"sex_n\", \"smoker_n\", \"region_n\", \"charges\"]"
            ]
        }
    ],
    "metadata": {
        "kernelspec": {
            "display_name": "Python 3.8.13 64-bit ('3.8.13')",
            "language": "python",
            "name": "python3"
        },
        "language_info": {
            "codemirror_mode": {
                "name": "ipython",
                "version": 3
            },
            "file_extension": ".py",
            "mimetype": "text/x-python",
            "name": "python",
            "nbconvert_exporter": "python",
            "pygments_lexer": "ipython3",
            "version": "3.10.12"
        },
        "orig_nbformat": 4,
        "vscode": {
            "interpreter": {
                "hash": "110cc1dee26208153f2972f08a2ad52b6a56238dc66d48e87fb757ef2996db56"
            }
        }
    },
    "nbformat": 4,
    "nbformat_minor": 2
}
